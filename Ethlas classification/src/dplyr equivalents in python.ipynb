{
 "cells": [
  {
   "attachments": {},
   "cell_type": "markdown",
   "metadata": {},
   "source": [
    "select(): df.loc[:, ['col1', 'col2']] or df[['col1', 'col2']]\n",
    "\n",
    "filter(): df[df['col1'] > 5] or df.query('col1 > 5')\n",
    "\n",
    "arrange(): df.sort_values(by=['col1', 'col2'], ascending=[True, False])\n",
    "\n",
    "mutate(): df.assign(new_col = df['col1'] + df['col2'])\n",
    "\n",
    "group_by(): df.groupby('col1').agg({'col2': 'mean', 'col3': 'sum'})\n",
    "\n",
    "summarize(): df.groupby('col1').agg({'col2': 'mean', 'col3': 'sum'}).reset_index()"
   ]
  },
  {
   "cell_type": "markdown",
   "metadata": {},
   "source": []
  }
 ],
 "metadata": {
  "language_info": {
   "name": "python"
  },
  "orig_nbformat": 4
 },
 "nbformat": 4,
 "nbformat_minor": 2
}
