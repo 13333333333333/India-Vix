{
 "cells": [
  {
   "attachments": {},
   "cell_type": "markdown",
   "metadata": {},
   "source": [
    "### KMC"
   ]
  },
  {
   "cell_type": "code",
   "execution_count": 2,
   "metadata": {},
   "outputs": [],
   "source": [
    "import pandas as pd\n",
    "import numpy as np\n",
    "from sklearn.cluster import KMeans\n",
    "from sklearn.datasets import load_breast_cancer\n"
   ]
  },
  {
   "cell_type": "code",
   "execution_count": 3,
   "metadata": {},
   "outputs": [],
   "source": [
    "data = load_breast_cancer(as_frame=True)\n"
   ]
  },
  {
   "cell_type": "code",
   "execution_count": 4,
   "metadata": {},
   "outputs": [
    {
     "data": {
      "text/plain": [
       "{'data':      mean radius  mean texture  mean perimeter  mean area  mean smoothness  \\\n",
       " 0          17.99         10.38          122.80     1001.0          0.11840   \n",
       " 1          20.57         17.77          132.90     1326.0          0.08474   \n",
       " 2          19.69         21.25          130.00     1203.0          0.10960   \n",
       " 3          11.42         20.38           77.58      386.1          0.14250   \n",
       " 4          20.29         14.34          135.10     1297.0          0.10030   \n",
       " ..           ...           ...             ...        ...              ...   \n",
       " 564        21.56         22.39          142.00     1479.0          0.11100   \n",
       " 565        20.13         28.25          131.20     1261.0          0.09780   \n",
       " 566        16.60         28.08          108.30      858.1          0.08455   \n",
       " 567        20.60         29.33          140.10     1265.0          0.11780   \n",
       " 568         7.76         24.54           47.92      181.0          0.05263   \n",
       " \n",
       "      mean compactness  mean concavity  mean concave points  mean symmetry  \\\n",
       " 0             0.27760         0.30010              0.14710         0.2419   \n",
       " 1             0.07864         0.08690              0.07017         0.1812   \n",
       " 2             0.15990         0.19740              0.12790         0.2069   \n",
       " 3             0.28390         0.24140              0.10520         0.2597   \n",
       " 4             0.13280         0.19800              0.10430         0.1809   \n",
       " ..                ...             ...                  ...            ...   \n",
       " 564           0.11590         0.24390              0.13890         0.1726   \n",
       " 565           0.10340         0.14400              0.09791         0.1752   \n",
       " 566           0.10230         0.09251              0.05302         0.1590   \n",
       " 567           0.27700         0.35140              0.15200         0.2397   \n",
       " 568           0.04362         0.00000              0.00000         0.1587   \n",
       " \n",
       "      mean fractal dimension  ...  worst radius  worst texture  \\\n",
       " 0                   0.07871  ...        25.380          17.33   \n",
       " 1                   0.05667  ...        24.990          23.41   \n",
       " 2                   0.05999  ...        23.570          25.53   \n",
       " 3                   0.09744  ...        14.910          26.50   \n",
       " 4                   0.05883  ...        22.540          16.67   \n",
       " ..                      ...  ...           ...            ...   \n",
       " 564                 0.05623  ...        25.450          26.40   \n",
       " 565                 0.05533  ...        23.690          38.25   \n",
       " 566                 0.05648  ...        18.980          34.12   \n",
       " 567                 0.07016  ...        25.740          39.42   \n",
       " 568                 0.05884  ...         9.456          30.37   \n",
       " \n",
       "      worst perimeter  worst area  worst smoothness  worst compactness  \\\n",
       " 0             184.60      2019.0           0.16220            0.66560   \n",
       " 1             158.80      1956.0           0.12380            0.18660   \n",
       " 2             152.50      1709.0           0.14440            0.42450   \n",
       " 3              98.87       567.7           0.20980            0.86630   \n",
       " 4             152.20      1575.0           0.13740            0.20500   \n",
       " ..               ...         ...               ...                ...   \n",
       " 564           166.10      2027.0           0.14100            0.21130   \n",
       " 565           155.00      1731.0           0.11660            0.19220   \n",
       " 566           126.70      1124.0           0.11390            0.30940   \n",
       " 567           184.60      1821.0           0.16500            0.86810   \n",
       " 568            59.16       268.6           0.08996            0.06444   \n",
       " \n",
       "      worst concavity  worst concave points  worst symmetry  \\\n",
       " 0             0.7119                0.2654          0.4601   \n",
       " 1             0.2416                0.1860          0.2750   \n",
       " 2             0.4504                0.2430          0.3613   \n",
       " 3             0.6869                0.2575          0.6638   \n",
       " 4             0.4000                0.1625          0.2364   \n",
       " ..               ...                   ...             ...   \n",
       " 564           0.4107                0.2216          0.2060   \n",
       " 565           0.3215                0.1628          0.2572   \n",
       " 566           0.3403                0.1418          0.2218   \n",
       " 567           0.9387                0.2650          0.4087   \n",
       " 568           0.0000                0.0000          0.2871   \n",
       " \n",
       "      worst fractal dimension  \n",
       " 0                    0.11890  \n",
       " 1                    0.08902  \n",
       " 2                    0.08758  \n",
       " 3                    0.17300  \n",
       " 4                    0.07678  \n",
       " ..                       ...  \n",
       " 564                  0.07115  \n",
       " 565                  0.06637  \n",
       " 566                  0.07820  \n",
       " 567                  0.12400  \n",
       " 568                  0.07039  \n",
       " \n",
       " [569 rows x 30 columns],\n",
       " 'target': 0      0\n",
       " 1      0\n",
       " 2      0\n",
       " 3      0\n",
       " 4      0\n",
       "       ..\n",
       " 564    0\n",
       " 565    0\n",
       " 566    0\n",
       " 567    0\n",
       " 568    1\n",
       " Name: target, Length: 569, dtype: int32,\n",
       " 'frame':      mean radius  mean texture  mean perimeter  mean area  mean smoothness  \\\n",
       " 0          17.99         10.38          122.80     1001.0          0.11840   \n",
       " 1          20.57         17.77          132.90     1326.0          0.08474   \n",
       " 2          19.69         21.25          130.00     1203.0          0.10960   \n",
       " 3          11.42         20.38           77.58      386.1          0.14250   \n",
       " 4          20.29         14.34          135.10     1297.0          0.10030   \n",
       " ..           ...           ...             ...        ...              ...   \n",
       " 564        21.56         22.39          142.00     1479.0          0.11100   \n",
       " 565        20.13         28.25          131.20     1261.0          0.09780   \n",
       " 566        16.60         28.08          108.30      858.1          0.08455   \n",
       " 567        20.60         29.33          140.10     1265.0          0.11780   \n",
       " 568         7.76         24.54           47.92      181.0          0.05263   \n",
       " \n",
       "      mean compactness  mean concavity  mean concave points  mean symmetry  \\\n",
       " 0             0.27760         0.30010              0.14710         0.2419   \n",
       " 1             0.07864         0.08690              0.07017         0.1812   \n",
       " 2             0.15990         0.19740              0.12790         0.2069   \n",
       " 3             0.28390         0.24140              0.10520         0.2597   \n",
       " 4             0.13280         0.19800              0.10430         0.1809   \n",
       " ..                ...             ...                  ...            ...   \n",
       " 564           0.11590         0.24390              0.13890         0.1726   \n",
       " 565           0.10340         0.14400              0.09791         0.1752   \n",
       " 566           0.10230         0.09251              0.05302         0.1590   \n",
       " 567           0.27700         0.35140              0.15200         0.2397   \n",
       " 568           0.04362         0.00000              0.00000         0.1587   \n",
       " \n",
       "      mean fractal dimension  ...  worst texture  worst perimeter  worst area  \\\n",
       " 0                   0.07871  ...          17.33           184.60      2019.0   \n",
       " 1                   0.05667  ...          23.41           158.80      1956.0   \n",
       " 2                   0.05999  ...          25.53           152.50      1709.0   \n",
       " 3                   0.09744  ...          26.50            98.87       567.7   \n",
       " 4                   0.05883  ...          16.67           152.20      1575.0   \n",
       " ..                      ...  ...            ...              ...         ...   \n",
       " 564                 0.05623  ...          26.40           166.10      2027.0   \n",
       " 565                 0.05533  ...          38.25           155.00      1731.0   \n",
       " 566                 0.05648  ...          34.12           126.70      1124.0   \n",
       " 567                 0.07016  ...          39.42           184.60      1821.0   \n",
       " 568                 0.05884  ...          30.37            59.16       268.6   \n",
       " \n",
       "      worst smoothness  worst compactness  worst concavity  \\\n",
       " 0             0.16220            0.66560           0.7119   \n",
       " 1             0.12380            0.18660           0.2416   \n",
       " 2             0.14440            0.42450           0.4504   \n",
       " 3             0.20980            0.86630           0.6869   \n",
       " 4             0.13740            0.20500           0.4000   \n",
       " ..                ...                ...              ...   \n",
       " 564           0.14100            0.21130           0.4107   \n",
       " 565           0.11660            0.19220           0.3215   \n",
       " 566           0.11390            0.30940           0.3403   \n",
       " 567           0.16500            0.86810           0.9387   \n",
       " 568           0.08996            0.06444           0.0000   \n",
       " \n",
       "      worst concave points  worst symmetry  worst fractal dimension  target  \n",
       " 0                  0.2654          0.4601                  0.11890       0  \n",
       " 1                  0.1860          0.2750                  0.08902       0  \n",
       " 2                  0.2430          0.3613                  0.08758       0  \n",
       " 3                  0.2575          0.6638                  0.17300       0  \n",
       " 4                  0.1625          0.2364                  0.07678       0  \n",
       " ..                    ...             ...                      ...     ...  \n",
       " 564                0.2216          0.2060                  0.07115       0  \n",
       " 565                0.1628          0.2572                  0.06637       0  \n",
       " 566                0.1418          0.2218                  0.07820       0  \n",
       " 567                0.2650          0.4087                  0.12400       0  \n",
       " 568                0.0000          0.2871                  0.07039       1  \n",
       " \n",
       " [569 rows x 31 columns],\n",
       " 'target_names': array(['malignant', 'benign'], dtype='<U9'),\n",
       " 'DESCR': '.. _breast_cancer_dataset:\\n\\nBreast cancer wisconsin (diagnostic) dataset\\n--------------------------------------------\\n\\n**Data Set Characteristics:**\\n\\n    :Number of Instances: 569\\n\\n    :Number of Attributes: 30 numeric, predictive attributes and the class\\n\\n    :Attribute Information:\\n        - radius (mean of distances from center to points on the perimeter)\\n        - texture (standard deviation of gray-scale values)\\n        - perimeter\\n        - area\\n        - smoothness (local variation in radius lengths)\\n        - compactness (perimeter^2 / area - 1.0)\\n        - concavity (severity of concave portions of the contour)\\n        - concave points (number of concave portions of the contour)\\n        - symmetry\\n        - fractal dimension (\"coastline approximation\" - 1)\\n\\n        The mean, standard error, and \"worst\" or largest (mean of the three\\n        worst/largest values) of these features were computed for each image,\\n        resulting in 30 features.  For instance, field 0 is Mean Radius, field\\n        10 is Radius SE, field 20 is Worst Radius.\\n\\n        - class:\\n                - WDBC-Malignant\\n                - WDBC-Benign\\n\\n    :Summary Statistics:\\n\\n    ===================================== ====== ======\\n                                           Min    Max\\n    ===================================== ====== ======\\n    radius (mean):                        6.981  28.11\\n    texture (mean):                       9.71   39.28\\n    perimeter (mean):                     43.79  188.5\\n    area (mean):                          143.5  2501.0\\n    smoothness (mean):                    0.053  0.163\\n    compactness (mean):                   0.019  0.345\\n    concavity (mean):                     0.0    0.427\\n    concave points (mean):                0.0    0.201\\n    symmetry (mean):                      0.106  0.304\\n    fractal dimension (mean):             0.05   0.097\\n    radius (standard error):              0.112  2.873\\n    texture (standard error):             0.36   4.885\\n    perimeter (standard error):           0.757  21.98\\n    area (standard error):                6.802  542.2\\n    smoothness (standard error):          0.002  0.031\\n    compactness (standard error):         0.002  0.135\\n    concavity (standard error):           0.0    0.396\\n    concave points (standard error):      0.0    0.053\\n    symmetry (standard error):            0.008  0.079\\n    fractal dimension (standard error):   0.001  0.03\\n    radius (worst):                       7.93   36.04\\n    texture (worst):                      12.02  49.54\\n    perimeter (worst):                    50.41  251.2\\n    area (worst):                         185.2  4254.0\\n    smoothness (worst):                   0.071  0.223\\n    compactness (worst):                  0.027  1.058\\n    concavity (worst):                    0.0    1.252\\n    concave points (worst):               0.0    0.291\\n    symmetry (worst):                     0.156  0.664\\n    fractal dimension (worst):            0.055  0.208\\n    ===================================== ====== ======\\n\\n    :Missing Attribute Values: None\\n\\n    :Class Distribution: 212 - Malignant, 357 - Benign\\n\\n    :Creator:  Dr. William H. Wolberg, W. Nick Street, Olvi L. Mangasarian\\n\\n    :Donor: Nick Street\\n\\n    :Date: November, 1995\\n\\nThis is a copy of UCI ML Breast Cancer Wisconsin (Diagnostic) datasets.\\nhttps://goo.gl/U2Uwz2\\n\\nFeatures are computed from a digitized image of a fine needle\\naspirate (FNA) of a breast mass.  They describe\\ncharacteristics of the cell nuclei present in the image.\\n\\nSeparating plane described above was obtained using\\nMultisurface Method-Tree (MSM-T) [K. P. Bennett, \"Decision Tree\\nConstruction Via Linear Programming.\" Proceedings of the 4th\\nMidwest Artificial Intelligence and Cognitive Science Society,\\npp. 97-101, 1992], a classification method which uses linear\\nprogramming to construct a decision tree.  Relevant features\\nwere selected using an exhaustive search in the space of 1-4\\nfeatures and 1-3 separating planes.\\n\\nThe actual linear program used to obtain the separating plane\\nin the 3-dimensional space is that described in:\\n[K. P. Bennett and O. L. Mangasarian: \"Robust Linear\\nProgramming Discrimination of Two Linearly Inseparable Sets\",\\nOptimization Methods and Software 1, 1992, 23-34].\\n\\nThis database is also available through the UW CS ftp server:\\n\\nftp ftp.cs.wisc.edu\\ncd math-prog/cpo-dataset/machine-learn/WDBC/\\n\\n.. topic:: References\\n\\n   - W.N. Street, W.H. Wolberg and O.L. Mangasarian. Nuclear feature extraction \\n     for breast tumor diagnosis. IS&T/SPIE 1993 International Symposium on \\n     Electronic Imaging: Science and Technology, volume 1905, pages 861-870,\\n     San Jose, CA, 1993.\\n   - O.L. Mangasarian, W.N. Street and W.H. Wolberg. Breast cancer diagnosis and \\n     prognosis via linear programming. Operations Research, 43(4), pages 570-577, \\n     July-August 1995.\\n   - W.H. Wolberg, W.N. Street, and O.L. Mangasarian. Machine learning techniques\\n     to diagnose breast cancer from fine-needle aspirates. Cancer Letters 77 (1994) \\n     163-171.',\n",
       " 'feature_names': array(['mean radius', 'mean texture', 'mean perimeter', 'mean area',\n",
       "        'mean smoothness', 'mean compactness', 'mean concavity',\n",
       "        'mean concave points', 'mean symmetry', 'mean fractal dimension',\n",
       "        'radius error', 'texture error', 'perimeter error', 'area error',\n",
       "        'smoothness error', 'compactness error', 'concavity error',\n",
       "        'concave points error', 'symmetry error',\n",
       "        'fractal dimension error', 'worst radius', 'worst texture',\n",
       "        'worst perimeter', 'worst area', 'worst smoothness',\n",
       "        'worst compactness', 'worst concavity', 'worst concave points',\n",
       "        'worst symmetry', 'worst fractal dimension'], dtype='<U23'),\n",
       " 'filename': 'breast_cancer.csv',\n",
       " 'data_module': 'sklearn.datasets.data'}"
      ]
     },
     "execution_count": 4,
     "metadata": {},
     "output_type": "execute_result"
    }
   ],
   "source": [
    "data\n"
   ]
  },
  {
   "cell_type": "code",
   "execution_count": 5,
   "metadata": {},
   "outputs": [
    {
     "data": {
      "text/plain": [
       "array(['mean radius', 'mean texture', 'mean perimeter', 'mean area',\n",
       "       'mean smoothness', 'mean compactness', 'mean concavity',\n",
       "       'mean concave points', 'mean symmetry', 'mean fractal dimension',\n",
       "       'radius error', 'texture error', 'perimeter error', 'area error',\n",
       "       'smoothness error', 'compactness error', 'concavity error',\n",
       "       'concave points error', 'symmetry error',\n",
       "       'fractal dimension error', 'worst radius', 'worst texture',\n",
       "       'worst perimeter', 'worst area', 'worst smoothness',\n",
       "       'worst compactness', 'worst concavity', 'worst concave points',\n",
       "       'worst symmetry', 'worst fractal dimension'], dtype='<U23')"
      ]
     },
     "execution_count": 5,
     "metadata": {},
     "output_type": "execute_result"
    }
   ],
   "source": [
    "data.feature_names\n"
   ]
  },
  {
   "cell_type": "code",
   "execution_count": 6,
   "metadata": {},
   "outputs": [
    {
     "data": {
      "text/plain": [
       "30"
      ]
     },
     "execution_count": 6,
     "metadata": {},
     "output_type": "execute_result"
    }
   ],
   "source": [
    "data.feature_names.size\n"
   ]
  },
  {
   "cell_type": "code",
   "execution_count": 7,
   "metadata": {},
   "outputs": [
    {
     "data": {
      "text/plain": [
       "array(['malignant', 'benign'], dtype='<U9')"
      ]
     },
     "execution_count": 7,
     "metadata": {},
     "output_type": "execute_result"
    }
   ],
   "source": [
    "data.target_names\n"
   ]
  },
  {
   "cell_type": "code",
   "execution_count": 8,
   "metadata": {},
   "outputs": [],
   "source": [
    "labels = data.target\n"
   ]
  },
  {
   "cell_type": "code",
   "execution_count": 9,
   "metadata": {},
   "outputs": [],
   "source": [
    "# setting the features\n",
    "data = data.data\n"
   ]
  },
  {
   "cell_type": "code",
   "execution_count": 10,
   "metadata": {},
   "outputs": [],
   "source": [
    "# scaling the data\n",
    "from sklearn.preprocessing import StandardScaler\n",
    "\n",
    "scaler = StandardScaler()\n",
    "scaled_data = scaler.fit_transform(data)\n",
    "\n",
    "# converting back to dataframe\n",
    "scaled_data = pd.DataFrame(scaled_data, columns=data.columns)"
   ]
  },
  {
   "cell_type": "code",
   "execution_count": 11,
   "metadata": {},
   "outputs": [],
   "source": [
    "# mutating the data variable ***\n",
    "data = scaled_data"
   ]
  },
  {
   "cell_type": "code",
   "execution_count": 12,
   "metadata": {},
   "outputs": [
    {
     "name": "stdout",
     "output_type": "stream",
     "text": [
      "Best number of clusters: 2\n",
      "Best initialization method: k-means++\n",
      "Best model: KMeans(n_clusters=2, random_state=42)\n"
     ]
    }
   ],
   "source": [
    "from sklearn.metrics import silhouette_score\n",
    "\n",
    "# Define a range of cluster numbers to try\n",
    "cluster_range = range(2, 11)\n",
    "\n",
    "# Initialize variables to store the results\n",
    "best_score = -1\n",
    "best_model = None\n",
    "best_n_clusters = -1\n",
    "best_init_method = None\n",
    "\n",
    "# Iterate over the range of cluster numbers\n",
    "for n_clusters in cluster_range:\n",
    "    for init_method in ['k-means++', 'random']:\n",
    "        # Instantiate the KMeans model\n",
    "        # Set the desired number of clusters and initialization method\n",
    "        kmeans = KMeans(n_clusters=n_clusters,\n",
    "                        init=init_method, random_state=42)\n",
    "\n",
    "        # Fit the model to the data\n",
    "        kmeans.fit(data)\n",
    "\n",
    "        # Calculate the silhouette score\n",
    "        silhouette_avg = silhouette_score(data, kmeans.labels_)\n",
    "\n",
    "        # Check if the current model has a higher silhouette score\n",
    "        if silhouette_avg > best_score:\n",
    "            best_score = silhouette_avg\n",
    "            best_model = kmeans\n",
    "            best_n_clusters = n_clusters\n",
    "            best_init_method = init_method\n",
    "\n",
    "# Print the best number of clusters, initialization method, and the best model\n",
    "print(\"Best number of clusters:\", best_n_clusters)\n",
    "print(\"Best initialization method:\", best_init_method)\n",
    "print(\"Best model:\", best_model)\n"
   ]
  },
  {
   "cell_type": "code",
   "execution_count": 13,
   "metadata": {},
   "outputs": [
    {
     "name": "stderr",
     "output_type": "stream",
     "text": [
      "C:\\Users\\Manish Seal\\AppData\\Local\\Temp\\ipykernel_8604\\741269408.py:23: FutureWarning: The frame.append method is deprecated and will be removed from pandas in a future version. Use pandas.concat instead.\n",
      "  results_df = results_df.append({'Number of Clusters': n_clusters,\n",
      "C:\\Users\\Manish Seal\\AppData\\Local\\Temp\\ipykernel_8604\\741269408.py:23: FutureWarning: The frame.append method is deprecated and will be removed from pandas in a future version. Use pandas.concat instead.\n",
      "  results_df = results_df.append({'Number of Clusters': n_clusters,\n",
      "C:\\Users\\Manish Seal\\AppData\\Local\\Temp\\ipykernel_8604\\741269408.py:23: FutureWarning: The frame.append method is deprecated and will be removed from pandas in a future version. Use pandas.concat instead.\n",
      "  results_df = results_df.append({'Number of Clusters': n_clusters,\n",
      "C:\\Users\\Manish Seal\\AppData\\Local\\Temp\\ipykernel_8604\\741269408.py:23: FutureWarning: The frame.append method is deprecated and will be removed from pandas in a future version. Use pandas.concat instead.\n",
      "  results_df = results_df.append({'Number of Clusters': n_clusters,\n",
      "C:\\Users\\Manish Seal\\AppData\\Local\\Temp\\ipykernel_8604\\741269408.py:23: FutureWarning: The frame.append method is deprecated and will be removed from pandas in a future version. Use pandas.concat instead.\n",
      "  results_df = results_df.append({'Number of Clusters': n_clusters,\n",
      "C:\\Users\\Manish Seal\\AppData\\Local\\Temp\\ipykernel_8604\\741269408.py:23: FutureWarning: The frame.append method is deprecated and will be removed from pandas in a future version. Use pandas.concat instead.\n",
      "  results_df = results_df.append({'Number of Clusters': n_clusters,\n",
      "C:\\Users\\Manish Seal\\AppData\\Local\\Temp\\ipykernel_8604\\741269408.py:23: FutureWarning: The frame.append method is deprecated and will be removed from pandas in a future version. Use pandas.concat instead.\n",
      "  results_df = results_df.append({'Number of Clusters': n_clusters,\n",
      "C:\\Users\\Manish Seal\\AppData\\Local\\Temp\\ipykernel_8604\\741269408.py:23: FutureWarning: The frame.append method is deprecated and will be removed from pandas in a future version. Use pandas.concat instead.\n",
      "  results_df = results_df.append({'Number of Clusters': n_clusters,\n",
      "C:\\Users\\Manish Seal\\AppData\\Local\\Temp\\ipykernel_8604\\741269408.py:23: FutureWarning: The frame.append method is deprecated and will be removed from pandas in a future version. Use pandas.concat instead.\n",
      "  results_df = results_df.append({'Number of Clusters': n_clusters,\n"
     ]
    },
    {
     "name": "stdout",
     "output_type": "stream",
     "text": [
      "   Number of Clusters  k-means Silhouette Score  k-means++ Silhouette Score  \\\n",
      "0                 2.0                  0.344974                    0.344974   \n",
      "1                 3.0                  0.314384                    0.314384   \n",
      "2                 4.0                  0.272256                    0.284196   \n",
      "3                 5.0                  0.160149                    0.160149   \n",
      "4                 6.0                  0.152037                    0.160690   \n",
      "5                 7.0                  0.155978                    0.153014   \n",
      "6                 8.0                  0.155514                    0.154246   \n",
      "7                 9.0                  0.148357                    0.132798   \n",
      "8                10.0                  0.130815                    0.149928   \n",
      "\n",
      "   Score Difference  \n",
      "0          0.000000  \n",
      "1          0.000000  \n",
      "2          0.011939  \n",
      "3          0.000000  \n",
      "4          0.008653  \n",
      "5         -0.002964  \n",
      "6         -0.001268  \n",
      "7         -0.015559  \n",
      "8          0.019113  \n"
     ]
    }
   ],
   "source": [
    "# more detailed analysis\n",
    "# Initialize a DataFrame to store the results\n",
    "results_df = pd.DataFrame(columns=[\n",
    "                          'Number of Clusters', 'k-means Silhouette Score', 'k-means++ Silhouette Score', 'Score Difference'])\n",
    "\n",
    "# Iterate over the range of cluster numbers\n",
    "for n_clusters in cluster_range:\n",
    "    # Instantiate the k-means model with random initialization\n",
    "    kmeans = KMeans(n_clusters=n_clusters, init='random', random_state=42)\n",
    "    kmeans.fit(data)\n",
    "    kmeans_silhouette = silhouette_score(data, kmeans.labels_)\n",
    "\n",
    "    # Instantiate the k-means++ model\n",
    "    kmeans_pp = KMeans(n_clusters=n_clusters,\n",
    "                       init='k-means++', random_state=42)\n",
    "    kmeans_pp.fit(data)\n",
    "    kmeans_pp_silhouette = silhouette_score(data, kmeans_pp.labels_)\n",
    "\n",
    "    # Calculate the silhouette score difference\n",
    "    score_diff = kmeans_pp_silhouette - kmeans_silhouette\n",
    "\n",
    "    # Append the results to the DataFrame\n",
    "    results_df = results_df.append({'Number of Clusters': n_clusters,\n",
    "                                    'k-means Silhouette Score': kmeans_silhouette,\n",
    "                                    'k-means++ Silhouette Score': kmeans_pp_silhouette,\n",
    "                                    'Score Difference': score_diff},\n",
    "                                   ignore_index=True)\n",
    "\n",
    "# Display the results\n",
    "print(results_df)\n"
   ]
  },
  {
   "cell_type": "code",
   "execution_count": 14,
   "metadata": {},
   "outputs": [],
   "source": [
    "kmeans = best_model\n"
   ]
  },
  {
   "cell_type": "code",
   "execution_count": 15,
   "metadata": {},
   "outputs": [],
   "source": [
    "# accessing cluster labels\n",
    "cluster_labels = kmeans.labels_\n"
   ]
  },
  {
   "cell_type": "code",
   "execution_count": 16,
   "metadata": {},
   "outputs": [],
   "source": [
    "# Access the cluster centers\n",
    "cluster_centers = kmeans.cluster_centers_\n"
   ]
  },
  {
   "cell_type": "code",
   "execution_count": 17,
   "metadata": {},
   "outputs": [
    {
     "data": {
      "image/png": "[encoded data removed]",
      "text/plain": [
       "<Figure size 432x288 with 1 Axes>"
      ]
     },
     "metadata": {
      "needs_background": "light"
     },
     "output_type": "display_data"
    }
   ],
   "source": [
    "import matplotlib.pyplot as plt\n",
    "\n",
    "# Create a scatter plot for malignant tumors\n",
    "plt.scatter(data['mean radius'][cluster_labels == 0], data['mean texture']\n",
    "            [cluster_labels == 0], c='red', label='Malignant')\n",
    "\n",
    "# Create a scatter plot for benign tumors\n",
    "plt.scatter(data['mean radius'][cluster_labels == 1],\n",
    "            data['mean texture'][cluster_labels == 1], c='green', label='Benign')\n",
    "\n",
    "# Set the axis labels\n",
    "plt.xlabel('Mean Radius')\n",
    "plt.ylabel('Mean Texture')\n",
    "\n",
    "# Add a legend\n",
    "plt.legend()\n",
    "\n",
    "# Show the plot\n",
    "plt.show()\n"
   ]
  },
  {
   "cell_type": "code",
   "execution_count": 18,
   "metadata": {},
   "outputs": [],
   "source": [
    "# interactive 3D plot\n",
    "import plotly.graph_objects as go\n",
    "\n",
    "# Select the three most influential features\n",
    "x = data['mean radius']\n",
    "y = data['mean texture']\n",
    "z = data['mean perimeter']\n",
    "\n",
    "# Create a trace for malignant tumors\n",
    "trace_malignant = go.Scatter3d(\n",
    "    x=x[cluster_labels == 0],\n",
    "    y=y[cluster_labels == 0],\n",
    "    z=z[cluster_labels == 0],\n",
    "    mode='markers',\n",
    "    marker=dict(\n",
    "        size=5,\n",
    "        color='red',\n",
    "        opacity=0.8\n",
    "    ),\n",
    "    name='Malignant'\n",
    ")\n",
    "\n",
    "# Create a trace for benign tumors\n",
    "trace_benign = go.Scatter3d(\n",
    "    x=x[cluster_labels == 1],\n",
    "    y=y[cluster_labels == 1],\n",
    "    z=z[cluster_labels == 1],\n",
    "    mode='markers',\n",
    "    marker=dict(\n",
    "        size=5,\n",
    "        color='green',\n",
    "        opacity=0.8\n",
    "    ),\n",
    "    name='Benign'\n",
    ")\n",
    "\n",
    "# Create the layout\n",
    "layout = go.Layout(\n",
    "    scene=dict(\n",
    "        xaxis_title='Mean Radius',\n",
    "        yaxis_title='Mean Texture',\n",
    "        zaxis_title='Mean Perimeter'\n",
    "    ),\n",
    "    showlegend=True\n",
    ")\n",
    "\n",
    "# Create the figure\n",
    "fig = go.Figure(data=[trace_malignant, trace_benign], layout=layout)\n",
    "\n",
    "# Show the figure\n",
    "fig.show(renderer=\"browser\")"
   ]
  },
  {
   "cell_type": "code",
   "execution_count": 19,
   "metadata": {},
   "outputs": [],
   "source": [
    "fig.write_html(\"plot.html\")"
   ]
  },
  {
   "attachments": {},
   "cell_type": "markdown",
   "metadata": {},
   "source": [
    "### PCA and KMC"
   ]
  },
  {
   "cell_type": "code",
   "execution_count": 20,
   "metadata": {},
   "outputs": [
    {
     "data": {
      "text/html": [
       "<div>\n",
       "<style scoped>\n",
       "    .dataframe tbody tr th:only-of-type {\n",
       "        vertical-align: middle;\n",
       "    }\n",
       "\n",
       "    .dataframe tbody tr th {\n",
       "        vertical-align: top;\n",
       "    }\n",
       "\n",
       "    .dataframe thead th {\n",
       "        text-align: right;\n",
       "    }\n",
       "</style>\n",
       "<table border=\"1\" class=\"dataframe\">\n",
       "  <thead>\n",
       "    <tr style=\"text-align: right;\">\n",
       "      <th></th>\n",
       "      <th>mean radius</th>\n",
       "      <th>mean texture</th>\n",
       "      <th>mean perimeter</th>\n",
       "      <th>mean area</th>\n",
       "      <th>mean smoothness</th>\n",
       "      <th>mean compactness</th>\n",
       "      <th>mean concavity</th>\n",
       "      <th>mean concave points</th>\n",
       "      <th>mean symmetry</th>\n",
       "      <th>mean fractal dimension</th>\n",
       "      <th>...</th>\n",
       "      <th>worst radius</th>\n",
       "      <th>worst texture</th>\n",
       "      <th>worst perimeter</th>\n",
       "      <th>worst area</th>\n",
       "      <th>worst smoothness</th>\n",
       "      <th>worst compactness</th>\n",
       "      <th>worst concavity</th>\n",
       "      <th>worst concave points</th>\n",
       "      <th>worst symmetry</th>\n",
       "      <th>worst fractal dimension</th>\n",
       "    </tr>\n",
       "  </thead>\n",
       "  <tbody>\n",
       "    <tr>\n",
       "      <th>0</th>\n",
       "      <td>1.097064</td>\n",
       "      <td>-2.073335</td>\n",
       "      <td>1.269934</td>\n",
       "      <td>0.984375</td>\n",
       "      <td>1.568466</td>\n",
       "      <td>3.283515</td>\n",
       "      <td>2.652874</td>\n",
       "      <td>2.532475</td>\n",
       "      <td>2.217515</td>\n",
       "      <td>2.255747</td>\n",
       "      <td>...</td>\n",
       "      <td>1.886690</td>\n",
       "      <td>-1.359293</td>\n",
       "      <td>2.303601</td>\n",
       "      <td>2.001237</td>\n",
       "      <td>1.307686</td>\n",
       "      <td>2.616665</td>\n",
       "      <td>2.109526</td>\n",
       "      <td>2.296076</td>\n",
       "      <td>2.750622</td>\n",
       "      <td>1.937015</td>\n",
       "    </tr>\n",
       "    <tr>\n",
       "      <th>1</th>\n",
       "      <td>1.829821</td>\n",
       "      <td>-0.353632</td>\n",
       "      <td>1.685955</td>\n",
       "      <td>1.908708</td>\n",
       "      <td>-0.826962</td>\n",
       "      <td>-0.487072</td>\n",
       "      <td>-0.023846</td>\n",
       "      <td>0.548144</td>\n",
       "      <td>0.001392</td>\n",
       "      <td>-0.868652</td>\n",
       "      <td>...</td>\n",
       "      <td>1.805927</td>\n",
       "      <td>-0.369203</td>\n",
       "      <td>1.535126</td>\n",
       "      <td>1.890489</td>\n",
       "      <td>-0.375612</td>\n",
       "      <td>-0.430444</td>\n",
       "      <td>-0.146749</td>\n",
       "      <td>1.087084</td>\n",
       "      <td>-0.243890</td>\n",
       "      <td>0.281190</td>\n",
       "    </tr>\n",
       "    <tr>\n",
       "      <th>2</th>\n",
       "      <td>1.579888</td>\n",
       "      <td>0.456187</td>\n",
       "      <td>1.566503</td>\n",
       "      <td>1.558884</td>\n",
       "      <td>0.942210</td>\n",
       "      <td>1.052926</td>\n",
       "      <td>1.363478</td>\n",
       "      <td>2.037231</td>\n",
       "      <td>0.939685</td>\n",
       "      <td>-0.398008</td>\n",
       "      <td>...</td>\n",
       "      <td>1.511870</td>\n",
       "      <td>-0.023974</td>\n",
       "      <td>1.347475</td>\n",
       "      <td>1.456285</td>\n",
       "      <td>0.527407</td>\n",
       "      <td>1.082932</td>\n",
       "      <td>0.854974</td>\n",
       "      <td>1.955000</td>\n",
       "      <td>1.152255</td>\n",
       "      <td>0.201391</td>\n",
       "    </tr>\n",
       "    <tr>\n",
       "      <th>3</th>\n",
       "      <td>-0.768909</td>\n",
       "      <td>0.253732</td>\n",
       "      <td>-0.592687</td>\n",
       "      <td>-0.764464</td>\n",
       "      <td>3.283553</td>\n",
       "      <td>3.402909</td>\n",
       "      <td>1.915897</td>\n",
       "      <td>1.451707</td>\n",
       "      <td>2.867383</td>\n",
       "      <td>4.910919</td>\n",
       "      <td>...</td>\n",
       "      <td>-0.281464</td>\n",
       "      <td>0.133984</td>\n",
       "      <td>-0.249939</td>\n",
       "      <td>-0.550021</td>\n",
       "      <td>3.394275</td>\n",
       "      <td>3.893397</td>\n",
       "      <td>1.989588</td>\n",
       "      <td>2.175786</td>\n",
       "      <td>6.046041</td>\n",
       "      <td>4.935010</td>\n",
       "    </tr>\n",
       "    <tr>\n",
       "      <th>4</th>\n",
       "      <td>1.750297</td>\n",
       "      <td>-1.151816</td>\n",
       "      <td>1.776573</td>\n",
       "      <td>1.826229</td>\n",
       "      <td>0.280372</td>\n",
       "      <td>0.539340</td>\n",
       "      <td>1.371011</td>\n",
       "      <td>1.428493</td>\n",
       "      <td>-0.009560</td>\n",
       "      <td>-0.562450</td>\n",
       "      <td>...</td>\n",
       "      <td>1.298575</td>\n",
       "      <td>-1.466770</td>\n",
       "      <td>1.338539</td>\n",
       "      <td>1.220724</td>\n",
       "      <td>0.220556</td>\n",
       "      <td>-0.313395</td>\n",
       "      <td>0.613179</td>\n",
       "      <td>0.729259</td>\n",
       "      <td>-0.868353</td>\n",
       "      <td>-0.397100</td>\n",
       "    </tr>\n",
       "  </tbody>\n",
       "</table>\n",
       "<p>5 rows × 30 columns</p>\n",
       "</div>"
      ],
      "text/plain": [
       "   mean radius  mean texture  mean perimeter  mean area  mean smoothness  \\\n",
       "0     1.097064     -2.073335        1.269934   0.984375         1.568466   \n",
       "1     1.829821     -0.353632        1.685955   1.908708        -0.826962   \n",
       "2     1.579888      0.456187        1.566503   1.558884         0.942210   \n",
       "3    -0.768909      0.253732       -0.592687  -0.764464         3.283553   \n",
       "4     1.750297     -1.151816        1.776573   1.826229         0.280372   \n",
       "\n",
       "   mean compactness  mean concavity  mean concave points  mean symmetry  \\\n",
       "0          3.283515        2.652874             2.532475       2.217515   \n",
       "1         -0.487072       -0.023846             0.548144       0.001392   \n",
       "2          1.052926        1.363478             2.037231       0.939685   \n",
       "3          3.402909        1.915897             1.451707       2.867383   \n",
       "4          0.539340        1.371011             1.428493      -0.009560   \n",
       "\n",
       "   mean fractal dimension  ...  worst radius  worst texture  worst perimeter  \\\n",
       "0                2.255747  ...      1.886690      -1.359293         2.303601   \n",
       "1               -0.868652  ...      1.805927      -0.369203         1.535126   \n",
       "2               -0.398008  ...      1.511870      -0.023974         1.347475   \n",
       "3                4.910919  ...     -0.281464       0.133984        -0.249939   \n",
       "4               -0.562450  ...      1.298575      -1.466770         1.338539   \n",
       "\n",
       "   worst area  worst smoothness  worst compactness  worst concavity  \\\n",
       "0    2.001237          1.307686           2.616665         2.109526   \n",
       "1    1.890489         -0.375612          -0.430444        -0.146749   \n",
       "2    1.456285          0.527407           1.082932         0.854974   \n",
       "3   -0.550021          3.394275           3.893397         1.989588   \n",
       "4    1.220724          0.220556          -0.313395         0.613179   \n",
       "\n",
       "   worst concave points  worst symmetry  worst fractal dimension  \n",
       "0              2.296076        2.750622                 1.937015  \n",
       "1              1.087084       -0.243890                 0.281190  \n",
       "2              1.955000        1.152255                 0.201391  \n",
       "3              2.175786        6.046041                 4.935010  \n",
       "4              0.729259       -0.868353                -0.397100  \n",
       "\n",
       "[5 rows x 30 columns]"
      ]
     },
     "execution_count": 20,
     "metadata": {},
     "output_type": "execute_result"
    }
   ],
   "source": [
    "data.head()"
   ]
  },
  {
   "cell_type": "code",
   "execution_count": 21,
   "metadata": {},
   "outputs": [
    {
     "data": {
      "image/png": "[encoded data removed]",
      "text/plain": [
       "<Figure size 432x288 with 1 Axes>"
      ]
     },
     "metadata": {
      "needs_background": "light"
     },
     "output_type": "display_data"
    }
   ],
   "source": [
    "# obtaining the number of principal components needed\n",
    "import numpy as np\n",
    "import matplotlib.pyplot as plt\n",
    "from sklearn.decomposition import PCA\n",
    "\n",
    "# Create the PCA object\n",
    "pca = PCA()\n",
    "pca.fit(data)\n",
    "\n",
    "# Calculate the cumulative explained variance ratio\n",
    "cumulative_var_ratio = np.cumsum(pca.explained_variance_ratio_)\n",
    "\n",
    "# Plot the explained variance ratio\n",
    "plt.plot(range(1, len(cumulative_var_ratio) + 1), cumulative_var_ratio, marker='o')\n",
    "plt.xlabel('Number of Principal Components')\n",
    "plt.ylabel('Cumulative Explained Variance Ratio')\n",
    "plt.title('Cumulative Explained Variance Ratio vs. Number of Principal Components')\n",
    "plt.grid(True)\n",
    "plt.show()"
   ]
  },
  {
   "cell_type": "code",
   "execution_count": 22,
   "metadata": {},
   "outputs": [
    {
     "name": "stdout",
     "output_type": "stream",
     "text": [
      "Explained Variance Ratio: [0.44272026 0.18971182 0.09393163 0.06602135 0.05495768 0.04024522\n",
      " 0.02250734 0.01588724 0.01389649 0.01168978]\n",
      "        PC1        PC2       PC3       PC4       PC5       PC6       PC7  \\\n",
      "0  9.192837   1.948583 -1.123166  3.633731 -1.195110  1.411424  2.159370   \n",
      "1  2.387802  -3.768172 -0.529293  1.118264  0.621775  0.028656  0.013358   \n",
      "2  5.733896  -1.075174 -0.551748  0.912083 -0.177086  0.541452 -0.668167   \n",
      "3  7.122953  10.275589 -3.232790  0.152547 -2.960878  3.053422  1.429910   \n",
      "4  3.935302  -1.948072  1.389767  2.940639  0.546747 -1.226495 -0.936213   \n",
      "\n",
      "        PC8       PC9      PC10  \n",
      "0 -0.398408 -0.157119 -0.877415  \n",
      "1  0.240990 -0.711906  1.107016  \n",
      "2  0.097371  0.024059  0.454267  \n",
      "3  1.059563 -1.405449 -1.116973  \n",
      "4  0.636378 -0.263801  0.377709  \n"
     ]
    }
   ],
   "source": [
    "# Create the PCA object\n",
    "pca = PCA(n_components=10) \n",
    "\n",
    "# Apply PCA to the data\n",
    "pca_data = pca.fit_transform(data)\n",
    "\n",
    "# Create a DataFrame for the PCA data\n",
    "pc_columns = ['PC{}'.format(i+1) for i in range(pca_data.shape[1])]\n",
    "pca_df = pd.DataFrame(data=pca_data, columns=pc_columns)\n",
    "\n",
    "# Print the explained variance ratio\n",
    "print(\"Explained Variance Ratio:\", pca.explained_variance_ratio_)\n",
    "\n",
    "# Display the PCA DataFrame\n",
    "print(pca_df.head())"
   ]
  },
  {
   "cell_type": "code",
   "execution_count": 23,
   "metadata": {},
   "outputs": [
    {
     "data": {
      "text/html": [
       "<style>#sk-container-id-1 {color: black;background-color: white;}#sk-container-id-1 pre{padding: 0;}#sk-container-id-1 div.sk-toggleable {background-color: white;}#sk-container-id-1 label.sk-toggleable__label {cursor: pointer;display: block;width: 100%;margin-bottom: 0;padding: 0.3em;box-sizing: border-box;text-align: center;}#sk-container-id-1 label.sk-toggleable__label-arrow:before {content: \"▸\";float: left;margin-right: 0.25em;color: #696969;}#sk-container-id-1 label.sk-toggleable__label-arrow:hover:before {color: black;}#sk-container-id-1 div.sk-estimator:hover label.sk-toggleable__label-arrow:before {color: black;}#sk-container-id-1 div.sk-toggleable__content {max-height: 0;max-width: 0;overflow: hidden;text-align: left;background-color: #f0f8ff;}#sk-container-id-1 div.sk-toggleable__content pre {margin: 0.2em;color: black;border-radius: 0.25em;background-color: #f0f8ff;}#sk-container-id-1 input.sk-toggleable__control:checked~div.sk-toggleable__content {max-height: 200px;max-width: 100%;overflow: auto;}#sk-container-id-1 input.sk-toggleable__control:checked~label.sk-toggleable__label-arrow:before {content: \"▾\";}#sk-container-id-1 div.sk-estimator input.sk-toggleable__control:checked~label.sk-toggleable__label {background-color: #d4ebff;}#sk-container-id-1 div.sk-label input.sk-toggleable__control:checked~label.sk-toggleable__label {background-color: #d4ebff;}#sk-container-id-1 input.sk-hidden--visually {border: 0;clip: rect(1px 1px 1px 1px);clip: rect(1px, 1px, 1px, 1px);height: 1px;margin: -1px;overflow: hidden;padding: 0;position: absolute;width: 1px;}#sk-container-id-1 div.sk-estimator {font-family: monospace;background-color: #f0f8ff;border: 1px dotted black;border-radius: 0.25em;box-sizing: border-box;margin-bottom: 0.5em;}#sk-container-id-1 div.sk-estimator:hover {background-color: #d4ebff;}#sk-container-id-1 div.sk-parallel-item::after {content: \"\";width: 100%;border-bottom: 1px solid gray;flex-grow: 1;}#sk-container-id-1 div.sk-label:hover label.sk-toggleable__label {background-color: #d4ebff;}#sk-container-id-1 div.sk-serial::before {content: \"\";position: absolute;border-left: 1px solid gray;box-sizing: border-box;top: 0;bottom: 0;left: 50%;z-index: 0;}#sk-container-id-1 div.sk-serial {display: flex;flex-direction: column;align-items: center;background-color: white;padding-right: 0.2em;padding-left: 0.2em;position: relative;}#sk-container-id-1 div.sk-item {position: relative;z-index: 1;}#sk-container-id-1 div.sk-parallel {display: flex;align-items: stretch;justify-content: center;background-color: white;position: relative;}#sk-container-id-1 div.sk-item::before, #sk-container-id-1 div.sk-parallel-item::before {content: \"\";position: absolute;border-left: 1px solid gray;box-sizing: border-box;top: 0;bottom: 0;left: 50%;z-index: -1;}#sk-container-id-1 div.sk-parallel-item {display: flex;flex-direction: column;z-index: 1;position: relative;background-color: white;}#sk-container-id-1 div.sk-parallel-item:first-child::after {align-self: flex-end;width: 50%;}#sk-container-id-1 div.sk-parallel-item:last-child::after {align-self: flex-start;width: 50%;}#sk-container-id-1 div.sk-parallel-item:only-child::after {width: 0;}#sk-container-id-1 div.sk-dashed-wrapped {border: 1px dashed gray;margin: 0 0.4em 0.5em 0.4em;box-sizing: border-box;padding-bottom: 0.4em;background-color: white;}#sk-container-id-1 div.sk-label label {font-family: monospace;font-weight: bold;display: inline-block;line-height: 1.2em;}#sk-container-id-1 div.sk-label-container {text-align: center;}#sk-container-id-1 div.sk-container {/* jupyter's `normalize.less` sets `[hidden] { display: none; }` but bootstrap.min.css set `[hidden] { display: none !important; }` so we also need the `!important` here to be able to override the default hidden behavior on the sphinx rendered scikit-learn.org. See: https://github.com/scikit-learn/scikit-learn/issues/21755 */display: inline-block !important;position: relative;}#sk-container-id-1 div.sk-text-repr-fallback {display: none;}</style><div id=\"sk-container-id-1\" class=\"sk-top-container\"><div class=\"sk-text-repr-fallback\"><pre>KMeans(n_clusters=10)</pre><b>In a Jupyter environment, please rerun this cell to show the HTML representation or trust the notebook. <br />On GitHub, the HTML representation is unable to render, please try loading this page with nbviewer.org.</b></div><div class=\"sk-container\" hidden><div class=\"sk-item\"><div class=\"sk-estimator sk-toggleable\"><input class=\"sk-toggleable__control sk-hidden--visually\" id=\"sk-estimator-id-1\" type=\"checkbox\" checked><label for=\"sk-estimator-id-1\" class=\"sk-toggleable__label sk-toggleable__label-arrow\">KMeans</label><div class=\"sk-toggleable__content\"><pre>KMeans(n_clusters=10)</pre></div></div></div></div></div>"
      ],
      "text/plain": [
       "KMeans(n_clusters=10)"
      ]
     },
     "execution_count": 23,
     "metadata": {},
     "output_type": "execute_result"
    }
   ],
   "source": [
    "# Instantiate the KMeans model\n",
    "kmeans = KMeans(n_clusters=10)\n",
    "\n",
    "# Fit the model to the data\n",
    "kmeans.fit(pca_df)"
   ]
  },
  {
   "cell_type": "code",
   "execution_count": 24,
   "metadata": {},
   "outputs": [
    {
     "data": {
      "image/png": "[encoded data removed]",
      "text/plain": [
       "<Figure size 432x288 with 1 Axes>"
      ]
     },
     "metadata": {
      "needs_background": "light"
     },
     "output_type": "display_data"
    }
   ],
   "source": [
    "# Kmeans with PCA\n",
    "# accessing cluster labels\n",
    "cluster_labels = kmeans.labels_\n",
    "\n",
    "# Access the cluster centers\n",
    "cluster_centers = kmeans.cluster_centers_\n",
    "\n",
    "# Create a scatter plot for malignant tumors\n",
    "plt.scatter(pca_df['PC1'][cluster_labels == 0], pca_df['PC2'][cluster_labels == 0], c='red', label='Malignant')\n",
    "\n",
    "# Create a scatter plot for benign tumors\n",
    "plt.scatter(pca_df['PC1'][cluster_labels == 1], pca_df['PC2'][cluster_labels == 1], c='green', label='Benign')\n",
    "\n",
    "# Extend the scatter plot to include PC3 to PC10\n",
    "for i in range(2, 10):\n",
    "    plt.scatter(pca_df['PC1'][cluster_labels == 0], pca_df['PC{}'.format(i + 1)][cluster_labels == 0], c='red')\n",
    "    plt.scatter(pca_df['PC1'][cluster_labels == 1], pca_df['PC{}'.format(i + 1)][cluster_labels == 1], c='green')\n",
    "\n",
    "# Set the axis labels\n",
    "plt.xlabel('PC1')\n",
    "plt.ylabel('PC2')\n",
    "\n",
    "# Add a legend\n",
    "plt.legend()\n",
    "\n",
    "# Show the plot\n",
    "plt.show()\n"
   ]
  },
  {
   "cell_type": "code",
   "execution_count": 25,
   "metadata": {},
   "outputs": [
    {
     "name": "stdout",
     "output_type": "stream",
     "text": [
      "Transformations of PC1: [0.21890244 0.10372458 0.22753729 0.22099499 0.14258969 0.23928535\n",
      " 0.25840048 0.26085376 0.13816696 0.06436335 0.20597878 0.01742803\n",
      " 0.21132592 0.20286964 0.01453145 0.17039345 0.15358979 0.1834174\n",
      " 0.04249842 0.10256832 0.22799663 0.10446933 0.23663968 0.22487053\n",
      " 0.12795256 0.21009588 0.22876753 0.25088597 0.12290456 0.13178394]\n",
      "\n",
      "Transformations of PC2: [-0.23385713 -0.05970609 -0.21518136 -0.23107671  0.18611302  0.15189161\n",
      "  0.06016536 -0.0347675   0.19034877  0.36657547 -0.10555215  0.08997968\n",
      " -0.08945723 -0.15229263  0.20443045  0.2327159   0.19720728  0.13032156\n",
      "  0.183848    0.28009203 -0.21986638 -0.0454673  -0.19987843 -0.21935186\n",
      "  0.17230435  0.14359317  0.09796411 -0.00825724  0.14188335  0.27533947]\n",
      "\n",
      "Transformations of PC3: [-0.00853124  0.0645499  -0.00931422  0.02869953 -0.1042919  -0.07409157\n",
      "  0.00273384 -0.02556354 -0.04023994 -0.02257409  0.26848139  0.37463367\n",
      "  0.26664537  0.21600653  0.30883898  0.15477972  0.17646374  0.22465757\n",
      "  0.28858429  0.21150376 -0.04750699 -0.04229782 -0.04854651 -0.01190232\n",
      " -0.25979761 -0.23607563 -0.17305734 -0.17034408 -0.27131264 -0.23279131]\n",
      "\n",
      "Transformations of PC4: [ 0.04140896 -0.60305     0.0419831   0.0534338   0.15938276  0.03179458\n",
      "  0.01912275  0.06533594  0.06712498  0.04858676  0.09794124 -0.35985553\n",
      "  0.08899241  0.10820504  0.04466418 -0.02746936  0.00131688  0.07406733\n",
      "  0.04407335  0.01530475  0.01541724 -0.63280789  0.01380279  0.02589475\n",
      "  0.01765222 -0.09132841 -0.07395118  0.006007   -0.03625069 -0.07705347]\n",
      "\n",
      "Transformations of PC5: [ 0.03778635 -0.04946885  0.03737466  0.01033125 -0.36508853  0.01170397\n",
      "  0.08637541 -0.04386103 -0.30594143 -0.04442436 -0.1544565  -0.19165051\n",
      " -0.12099022 -0.12757443 -0.23206568  0.27996816  0.35398209  0.19554809\n",
      " -0.25286876  0.26329744 -0.00440659 -0.0928834   0.00745415 -0.0273909\n",
      " -0.32443545  0.12180411  0.18851873  0.04333207 -0.24455866  0.09442335]\n",
      "\n",
      "Transformations of PC6: [ 1.87407894e-02 -3.21788310e-02  1.73084434e-02 -1.88774861e-03\n",
      " -2.86374497e-01 -1.41309513e-02 -9.34418249e-03 -5.20499490e-02\n",
      "  3.56458461e-01 -1.19430667e-01 -2.56032535e-02 -2.87473124e-02\n",
      "  1.81071258e-03 -4.28639087e-02 -3.42917395e-01  6.91975211e-02\n",
      "  5.63432395e-02 -3.12244506e-02  4.90245642e-01 -5.31952682e-02\n",
      " -2.90683677e-04 -5.00080684e-02  8.50098677e-03 -2.51643803e-02\n",
      " -3.69255369e-01  4.77057931e-02  2.83792551e-02 -3.08734458e-02\n",
      "  4.98926785e-01 -8.02235257e-02]\n",
      "\n",
      "Transformations of PC7: [-0.12408842  0.01139973 -0.11447714 -0.05165347 -0.14066905  0.03091855\n",
      " -0.10752046 -0.1504822  -0.09389113  0.29575999  0.31249007 -0.09075527\n",
      "  0.31464022  0.34667909 -0.2440241   0.0234635  -0.20882377 -0.36964595\n",
      " -0.08038224  0.19139501 -0.00970991  0.0098705  -0.00044575  0.0678318\n",
      " -0.1088308   0.14047302 -0.0604881  -0.16796654 -0.01849064  0.37465757]\n",
      "\n",
      "Transformations of PC8: [-0.00745224  0.13067444 -0.01868716  0.03467368 -0.28897449 -0.15139655\n",
      " -0.07282692 -0.15232221 -0.23153102 -0.17712153  0.02253978 -0.47541332\n",
      " -0.01189629  0.08580491  0.57341025  0.11746037  0.06056631 -0.10831901\n",
      "  0.22014924  0.01116798  0.04261935  0.03625214  0.03055862  0.07939415\n",
      "  0.20585213  0.08401935  0.07246788 -0.03617152  0.22822515  0.04836109]\n",
      "\n",
      "Transformations of PC9: [-0.22310889  0.11269676 -0.22373823 -0.19558556  0.0064253  -0.1678412\n",
      "  0.0405913  -0.11197165  0.25604009 -0.12374071  0.24998425 -0.24664644\n",
      "  0.22715571  0.22915961 -0.14192427 -0.1453233   0.35810681  0.27252048\n",
      " -0.30407718 -0.21372268 -0.11214198  0.10334461 -0.10961418 -0.08073394\n",
      "  0.11231493 -0.10067827  0.16190904  0.06048724  0.06463785 -0.13417368]\n",
      "\n",
      "Transformations of PC10: [ 0.09548842  0.24092968  0.08638761  0.07495734 -0.06929138  0.01293548\n",
      " -0.13560252  0.00805372  0.57206948  0.08110413 -0.04954829 -0.28914455\n",
      " -0.11450469 -0.09192957  0.16088584  0.043505   -0.14127648  0.086241\n",
      " -0.31653006  0.36754158  0.0773609   0.02955669  0.05050869  0.0699178\n",
      " -0.12830667 -0.17213503 -0.31163742 -0.07664924 -0.02956283  0.01261032]\n",
      "\n"
     ]
    }
   ],
   "source": [
    "# Apply PCA to the data\n",
    "pca = PCA(n_components=10)\n",
    "pca_data = pca.fit_transform(data)\n",
    "\n",
    "# Get the transformations of PC1 to PC10\n",
    "pc_transformations = pca.components_[:10]\n",
    "\n",
    "# Print the transformations\n",
    "for i, pc_transform in enumerate(pc_transformations):\n",
    "    print(f\"Transformations of PC{i+1}: {pc_transform}\\n\")"
   ]
  },
  {
   "cell_type": "code",
   "execution_count": 37,
   "metadata": {},
   "outputs": [],
   "source": [
    "# looking at the silhouette score\n",
    "kmeans_pp = KMeans(n_clusters=2,\n",
    "                       init='k-means++', random_state=42)\n",
    "kmeans_pp.fit(pca_df)\n",
    "kmeans_pp_silhouette = silhouette_score(pca_df, kmeans_pp.labels_)"
   ]
  },
  {
   "cell_type": "code",
   "execution_count": 38,
   "metadata": {},
   "outputs": [
    {
     "data": {
      "text/plain": [
       "0.35798641534859094"
      ]
     },
     "execution_count": 38,
     "metadata": {},
     "output_type": "execute_result"
    }
   ],
   "source": [
    "kmeans_pp_silhouette"
   ]
  },
  {
   "attachments": {},
   "cell_type": "markdown",
   "metadata": {},
   "source": [
    "This shows that using PCA together with KMeans++ results in a great improvement in the score"
   ]
  },
  {
   "cell_type": "markdown",
   "metadata": {},
   "source": []
  }
 ],
 "metadata": {
  "kernelspec": {
   "display_name": "Python 3",
   "language": "python",
   "name": "python3"
  },
  "language_info": {
   "codemirror_mode": {
    "name": "ipython",
    "version": 3
   },
   "file_extension": ".py",
   "mimetype": "text/x-python",
   "name": "python",
   "nbconvert_exporter": "python",
   "pygments_lexer": "ipython3",
   "version": "3.10.5"
  },
  "orig_nbformat": 4
 },
 "nbformat": 4,
 "nbformat_minor": 2
}
