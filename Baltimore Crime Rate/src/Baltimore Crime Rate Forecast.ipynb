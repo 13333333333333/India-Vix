{
 "cells": [
  {
   "attachments": {},
   "cell_type": "markdown",
   "metadata": {},
   "source": [
    "### [City of Baltimore Crime Data](https://data.world/data-society/city-of-baltimore-crime-data)"
   ]
  },
  {
   "cell_type": "code",
   "execution_count": 16,
   "metadata": {},
   "outputs": [],
   "source": [
    "import pandas as pd\n",
    "df = pd.read_csv('https://query.data.world/s/qvspv6ym4ukn6irryolom4ijbrmfug?dws=00000', parse_dates=True)"
   ]
  },
  {
   "cell_type": "code",
   "execution_count": 17,
   "metadata": {},
   "outputs": [
    {
     "data": {
      "text/html": [
       "<div>\n",
       "<style scoped>\n",
       "    .dataframe tbody tr th:only-of-type {\n",
       "        vertical-align: middle;\n",
       "    }\n",
       "\n",
       "    .dataframe tbody tr th {\n",
       "        vertical-align: top;\n",
       "    }\n",
       "\n",
       "    .dataframe thead th {\n",
       "        text-align: right;\n",
       "    }\n",
       "</style>\n",
       "<table border=\"1\" class=\"dataframe\">\n",
       "  <thead>\n",
       "    <tr style=\"text-align: right;\">\n",
       "      <th></th>\n",
       "      <th>CrimeDate</th>\n",
       "      <th>CrimeTime</th>\n",
       "      <th>CrimeCode</th>\n",
       "      <th>Location</th>\n",
       "      <th>Description</th>\n",
       "      <th>Inside/Outside</th>\n",
       "      <th>Weapon</th>\n",
       "      <th>Post</th>\n",
       "      <th>District</th>\n",
       "      <th>Neighborhood</th>\n",
       "      <th>Location 1</th>\n",
       "      <th>Total Incidents</th>\n",
       "    </tr>\n",
       "  </thead>\n",
       "  <tbody>\n",
       "    <tr>\n",
       "      <th>0</th>\n",
       "      <td>11/12/2016</td>\n",
       "      <td>02:35:00</td>\n",
       "      <td>3B</td>\n",
       "      <td>300 SAINT PAUL PL</td>\n",
       "      <td>ROBBERY - STREET</td>\n",
       "      <td>O</td>\n",
       "      <td>NaN</td>\n",
       "      <td>111.0</td>\n",
       "      <td>CENTRAL</td>\n",
       "      <td>Downtown</td>\n",
       "      <td>(39.2924100000, -76.6140800000)</td>\n",
       "      <td>1</td>\n",
       "    </tr>\n",
       "    <tr>\n",
       "      <th>1</th>\n",
       "      <td>11/12/2016</td>\n",
       "      <td>02:56:00</td>\n",
       "      <td>3CF</td>\n",
       "      <td>800 S BROADWAY</td>\n",
       "      <td>ROBBERY - COMMERCIAL</td>\n",
       "      <td>I</td>\n",
       "      <td>FIREARM</td>\n",
       "      <td>213.0</td>\n",
       "      <td>SOUTHEASTERN</td>\n",
       "      <td>Fells Point</td>\n",
       "      <td>(39.2824200000, -76.5928800000)</td>\n",
       "      <td>1</td>\n",
       "    </tr>\n",
       "    <tr>\n",
       "      <th>2</th>\n",
       "      <td>11/12/2016</td>\n",
       "      <td>03:00:00</td>\n",
       "      <td>6D</td>\n",
       "      <td>1500 PENTWOOD RD</td>\n",
       "      <td>LARCENY FROM AUTO</td>\n",
       "      <td>O</td>\n",
       "      <td>NaN</td>\n",
       "      <td>413.0</td>\n",
       "      <td>NORTHEASTERN</td>\n",
       "      <td>Stonewood-Pentwood-Winston</td>\n",
       "      <td>(39.3480500000, -76.5883400000)</td>\n",
       "      <td>1</td>\n",
       "    </tr>\n",
       "    <tr>\n",
       "      <th>3</th>\n",
       "      <td>11/12/2016</td>\n",
       "      <td>03:00:00</td>\n",
       "      <td>6D</td>\n",
       "      <td>6600 MILTON LN</td>\n",
       "      <td>LARCENY FROM AUTO</td>\n",
       "      <td>O</td>\n",
       "      <td>NaN</td>\n",
       "      <td>424.0</td>\n",
       "      <td>NORTHEASTERN</td>\n",
       "      <td>Westfield</td>\n",
       "      <td>(39.3626300000, -76.5516100000)</td>\n",
       "      <td>1</td>\n",
       "    </tr>\n",
       "    <tr>\n",
       "      <th>4</th>\n",
       "      <td>11/12/2016</td>\n",
       "      <td>03:00:00</td>\n",
       "      <td>6E</td>\n",
       "      <td>300 W BALTIMORE ST</td>\n",
       "      <td>LARCENY</td>\n",
       "      <td>O</td>\n",
       "      <td>NaN</td>\n",
       "      <td>111.0</td>\n",
       "      <td>CENTRAL</td>\n",
       "      <td>Downtown</td>\n",
       "      <td>(39.2893800000, -76.6197100000)</td>\n",
       "      <td>1</td>\n",
       "    </tr>\n",
       "  </tbody>\n",
       "</table>\n",
       "</div>"
      ],
      "text/plain": [
       "    CrimeDate CrimeTime CrimeCode            Location           Description  \\\n",
       "0  11/12/2016  02:35:00        3B   300 SAINT PAUL PL      ROBBERY - STREET   \n",
       "1  11/12/2016  02:56:00       3CF      800 S BROADWAY  ROBBERY - COMMERCIAL   \n",
       "2  11/12/2016  03:00:00        6D    1500 PENTWOOD RD     LARCENY FROM AUTO   \n",
       "3  11/12/2016  03:00:00        6D      6600 MILTON LN     LARCENY FROM AUTO   \n",
       "4  11/12/2016  03:00:00        6E  300 W BALTIMORE ST               LARCENY   \n",
       "\n",
       "  Inside/Outside   Weapon   Post      District                Neighborhood  \\\n",
       "0              O      NaN  111.0       CENTRAL                    Downtown   \n",
       "1              I  FIREARM  213.0  SOUTHEASTERN                 Fells Point   \n",
       "2              O      NaN  413.0  NORTHEASTERN  Stonewood-Pentwood-Winston   \n",
       "3              O      NaN  424.0  NORTHEASTERN                   Westfield   \n",
       "4              O      NaN  111.0       CENTRAL                    Downtown   \n",
       "\n",
       "                        Location 1  Total Incidents  \n",
       "0  (39.2924100000, -76.6140800000)                1  \n",
       "1  (39.2824200000, -76.5928800000)                1  \n",
       "2  (39.3480500000, -76.5883400000)                1  \n",
       "3  (39.3626300000, -76.5516100000)                1  \n",
       "4  (39.2893800000, -76.6197100000)                1  "
      ]
     },
     "execution_count": 17,
     "metadata": {},
     "output_type": "execute_result"
    }
   ],
   "source": [
    "df.head()"
   ]
  },
  {
   "cell_type": "code",
   "execution_count": 18,
   "metadata": {},
   "outputs": [],
   "source": [
    "crime_date_total_incidents = df[[\"CrimeDate\", \"Total Incidents\"]]\n",
    "\n",
    "# Set 'CrimeDate' as the index\n",
    "crime_date_total_incidents.set_index('CrimeDate', inplace=True)"
   ]
  },
  {
   "cell_type": "code",
   "execution_count": 19,
   "metadata": {},
   "outputs": [
    {
     "data": {
      "text/html": [
       "<div>\n",
       "<style scoped>\n",
       "    .dataframe tbody tr th:only-of-type {\n",
       "        vertical-align: middle;\n",
       "    }\n",
       "\n",
       "    .dataframe tbody tr th {\n",
       "        vertical-align: top;\n",
       "    }\n",
       "\n",
       "    .dataframe thead th {\n",
       "        text-align: right;\n",
       "    }\n",
       "</style>\n",
       "<table border=\"1\" class=\"dataframe\">\n",
       "  <thead>\n",
       "    <tr style=\"text-align: right;\">\n",
       "      <th></th>\n",
       "      <th>Total Incidents</th>\n",
       "    </tr>\n",
       "    <tr>\n",
       "      <th>CrimeDate</th>\n",
       "      <th></th>\n",
       "    </tr>\n",
       "  </thead>\n",
       "  <tbody>\n",
       "    <tr>\n",
       "      <th>11/12/2016</th>\n",
       "      <td>1</td>\n",
       "    </tr>\n",
       "    <tr>\n",
       "      <th>11/12/2016</th>\n",
       "      <td>1</td>\n",
       "    </tr>\n",
       "    <tr>\n",
       "      <th>11/12/2016</th>\n",
       "      <td>1</td>\n",
       "    </tr>\n",
       "    <tr>\n",
       "      <th>11/12/2016</th>\n",
       "      <td>1</td>\n",
       "    </tr>\n",
       "    <tr>\n",
       "      <th>11/12/2016</th>\n",
       "      <td>1</td>\n",
       "    </tr>\n",
       "  </tbody>\n",
       "</table>\n",
       "</div>"
      ],
      "text/plain": [
       "            Total Incidents\n",
       "CrimeDate                  \n",
       "11/12/2016                1\n",
       "11/12/2016                1\n",
       "11/12/2016                1\n",
       "11/12/2016                1\n",
       "11/12/2016                1"
      ]
     },
     "execution_count": 19,
     "metadata": {},
     "output_type": "execute_result"
    }
   ],
   "source": [
    "crime_date_total_incidents.head()"
   ]
  },
  {
   "cell_type": "code",
   "execution_count": 20,
   "metadata": {},
   "outputs": [],
   "source": [
    "grouped = crime_date_total_incidents.groupby('CrimeDate').sum()"
   ]
  },
  {
   "cell_type": "code",
   "execution_count": 23,
   "metadata": {},
   "outputs": [],
   "source": [
    "grouped.index = pd.to_datetime(grouped.index, format='%m/%d/%Y')\n",
    "\n",
    "# THIS PART IS IMPORTANT\n",
    "grouped = grouped.sort_index()"
   ]
  },
  {
   "cell_type": "code",
   "execution_count": 24,
   "metadata": {},
   "outputs": [
    {
     "data": {
      "text/plain": [
       "'total_incidents_plot.html'"
      ]
     },
     "execution_count": 24,
     "metadata": {},
     "output_type": "execute_result"
    }
   ],
   "source": [
    "import plotly.offline as pyo\n",
    "import plotly.graph_objects as go\n",
    "\n",
    "# Create the plot using Plotly Graph Objects\n",
    "fig = go.Figure(data=go.Scatter(x=grouped.index, y=grouped['Total Incidents'], mode='lines'))\n",
    "\n",
    "# Update the layout of the plot\n",
    "fig.update_layout(title='Total Incidents Over Time', xaxis_title='Date', yaxis_title='Total Incidents')\n",
    "\n",
    "# Save the plot as an HTML file\n",
    "pyo.plot(fig, filename='total_incidents_plot.html')"
   ]
  },
  {
   "cell_type": "code",
   "execution_count": 25,
   "metadata": {},
   "outputs": [
    {
     "name": "stderr",
     "output_type": "stream",
     "text": [
      "c:\\Users\\Manish Seal\\AppData\\Local\\Programs\\Python\\Python310\\lib\\site-packages\\statsmodels\\tsa\\base\\tsa_model.py:471: ValueWarning:\n",
      "\n",
      "No frequency information was provided, so inferred frequency D will be used.\n",
      "\n"
     ]
    }
   ],
   "source": [
    "from statsmodels.tsa.holtwinters import ExponentialSmoothing\n",
    "\n",
    "# Fit the Holt-Winters model to the data\n",
    "model = ExponentialSmoothing(grouped['Total Incidents'], trend='add', seasonal='add')\n",
    "fitted_model = model.fit()\n",
    "\n",
    "# Generate the forecasts\n",
    "forecast_values = fitted_model.predict(start=grouped.index.min(), end=grouped.index.max())"
   ]
  },
  {
   "cell_type": "code",
   "execution_count": 26,
   "metadata": {},
   "outputs": [
    {
     "data": {
      "text/plain": [
       "2011-01-01    123.790104\n",
       "2011-01-02    126.081426\n",
       "2011-01-03    131.612923\n",
       "2011-01-04    127.462036\n",
       "2011-01-05    114.536773\n",
       "                 ...    \n",
       "2016-11-08    145.570446\n",
       "2016-11-09    137.585762\n",
       "2016-11-10    132.398731\n",
       "2016-11-11    135.029052\n",
       "2016-11-12    120.046344\n",
       "Freq: D, Length: 2143, dtype: float64"
      ]
     },
     "execution_count": 26,
     "metadata": {},
     "output_type": "execute_result"
    }
   ],
   "source": [
    "forecast_values"
   ]
  },
  {
   "cell_type": "code",
   "execution_count": 31,
   "metadata": {},
   "outputs": [],
   "source": [
    "import plotly.graph_objects as go\n",
    "\n",
    "# Create the plot using Plotly Graph Objects\n",
    "fig = go.Figure()\n",
    "fig.add_trace(go.Scatter(x=grouped.index, y=grouped['Total Incidents'], mode='lines', name='Actual'))\n",
    "fig.add_trace(go.Scatter(x=forecast_values.index, y=forecast_values, mode='lines', name='Forecast'))\n",
    "\n",
    "# Update the layout of the plot\n",
    "fig.update_layout(title='Total Incidents Over Time - Holt-Winters Forecast',\n",
    "                  xaxis_title='Date', yaxis_title='Total Incidents')\n",
    "\n",
    "# Save the plot as an HTML file\n",
    "fig.write_html('total_incidents_plot_Holt_Winters.html')"
   ]
  },
  {
   "cell_type": "code",
   "execution_count": 33,
   "metadata": {},
   "outputs": [
    {
     "name": "stdout",
     "output_type": "stream",
     "text": [
      "Mean Absolute Error (MAE): 18.322951908693604\n",
      "Root Mean Squared Error (RMSE): 13.418435603251908\n",
      "Mean Absolute Percentage Error (MAPE): 10.574153729327799\n",
      "Percentage Error (PE): 0.04266908437202284\n"
     ]
    }
   ],
   "source": [
    "from statsmodels.tools.eval_measures import rmse, meanabs\n",
    "# Calculate accuracy metrics\n",
    "mse_value = meanabs(grouped['Total Incidents'], forecast_values)\n",
    "mae_value = rmse(grouped['Total Incidents'], forecast_values)\n",
    "mape_value = (abs((grouped['Total Incidents'] - forecast_values) / grouped['Total Incidents'])).mean() * 100\n",
    "pe_value = 100 * (forecast_values.mean() - grouped['Total Incidents'].mean()) / grouped['Total Incidents'].mean()\n",
    "\n",
    "print(\"Mean Absolute Error (MAE):\", mae_value)\n",
    "print(\"Root Mean Squared Error (RMSE):\", mse_value)\n",
    "print(\"Mean Absolute Percentage Error (MAPE):\", mape_value)\n",
    "print(\"Percentage Error (PE):\", pe_value)"
   ]
  },
  {
   "cell_type": "code",
   "execution_count": 36,
   "metadata": {},
   "outputs": [
    {
     "data": {
      "text/plain": [
       "'total_incidents_plot_Holt_Winters_1_months_Forecast.html'"
      ]
     },
     "execution_count": 36,
     "metadata": {},
     "output_type": "execute_result"
    }
   ],
   "source": [
    "# Generate the forecasts for the next month\n",
    "forecast_values = fitted_model.predict(start=grouped.index.max() + pd.DateOffset(days=1),\n",
    "                                       end=grouped.index.max() + pd.DateOffset(months=1))\n",
    "\n",
    "# Create the plot using Plotly Graph Objects\n",
    "fig = go.Figure()\n",
    "fig.add_trace(go.Scatter(x=grouped.index, y=grouped['Total Incidents'], mode='lines', name='Historical Data'))\n",
    "fig.add_trace(go.Scatter(x=forecast_values.index, y=forecast_values, mode='lines', name='Forecast'))\n",
    "\n",
    "# Update the layout of the plot\n",
    "fig.update_layout(title='Total Incidents Over Time - Holt-Winters 1 months Forecast',\n",
    "                  xaxis_title='Date', yaxis_title='Total Incidents')\n",
    "\n",
    "# Save the plot as an HTML file\n",
    "fig.write_html('total_incidents_plot.html')\n",
    "\n",
    "# Save the plot as an offline HTML file\n",
    "pyo.plot(fig, filename='total_incidents_plot_Holt_Winters_1_months_Forecast.html')\n"
   ]
  },
  {
   "attachments": {},
   "cell_type": "markdown",
   "metadata": {},
   "source": [
    "We can observe a decreasing trend in the 1 month horizon"
   ]
  }
 ],
 "metadata": {
  "kernelspec": {
   "display_name": "Python 3",
   "language": "python",
   "name": "python3"
  },
  "language_info": {
   "codemirror_mode": {
    "name": "ipython",
    "version": 3
   },
   "file_extension": ".py",
   "mimetype": "text/x-python",
   "name": "python",
   "nbconvert_exporter": "python",
   "pygments_lexer": "ipython3",
   "version": "3.10.5"
  },
  "orig_nbformat": 4
 },
 "nbformat": 4,
 "nbformat_minor": 2
}
