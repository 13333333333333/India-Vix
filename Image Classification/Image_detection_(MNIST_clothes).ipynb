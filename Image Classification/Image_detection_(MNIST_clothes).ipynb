{
  "nbformat": 4,
  "nbformat_minor": 0,
  "metadata": {
    "colab": {
      "provenance": []
    },
    "kernelspec": {
      "name": "python3",
      "display_name": "Python 3"
    },
    "language_info": {
      "name": "python"
    },
    "gpuClass": "standard",
    "accelerator": "GPU"
  },
  "cells": [
    {
      "cell_type": "markdown",
      "source": [
        "# Data standardization and reshaping"
      ],
      "metadata": {
        "id": "WwfxkPk5DWjF"
      }
    },
    {
      "cell_type": "markdown",
      "source": [
        "**Loading data**"
      ],
      "metadata": {
        "id": "4HBa9GzlDnTd"
      }
    },
    {
      "cell_type": "code",
      "execution_count": 1,
      "metadata": {
        "id": "S54SlNu4Pmr-"
      },
      "outputs": [],
      "source": [
        "## Loading and viewing the dataset\n",
        "\n",
        "import numpy as np\n",
        "import pandas as pd\n",
        "import math\n",
        "from random import gauss"
      ]
    },
    {
      "cell_type": "code",
      "source": [
        "from google.colab import drive\n",
        "drive.mount('/content/drive')"
      ],
      "metadata": {
        "colab": {
          "base_uri": "https://localhost:8080/"
        },
        "id": "o09RIzwvcAmi",
        "outputId": "4ba7b9fb-72e8-46c4-c608-240751d869af"
      },
      "execution_count": 2,
      "outputs": [
        {
          "output_type": "stream",
          "name": "stdout",
          "text": [
            "Mounted at /content/drive\n"
          ]
        }
      ]
    },
    {
      "cell_type": "code",
      "source": [
        "## Data preprocessing\n",
        "\n",
        "df=pd.read_csv(\"drive/MyDrive/data.csv\").dropna()\n",
        "df.drop(df.columns[0],axis=1,inplace=True)\n",
        "df_modified_kNN = df.copy()"
      ],
      "metadata": {
        "id": "bD-sKnrpPrxt"
      },
      "execution_count": 3,
      "outputs": []
    },
    {
      "cell_type": "code",
      "source": [
        "df.shape"
      ],
      "metadata": {
        "id": "fDVfLIzNQCtF",
        "colab": {
          "base_uri": "https://localhost:8080/"
        },
        "outputId": "3446b7b5-d8e2-4cf0-c212-f26c9ab5ede5"
      },
      "execution_count": 4,
      "outputs": [
        {
          "output_type": "execute_result",
          "data": {
            "text/plain": [
              "(60000, 785)"
            ]
          },
          "metadata": {},
          "execution_count": 4
        }
      ]
    },
    {
      "cell_type": "code",
      "source": [
        "df.head()"
      ],
      "metadata": {
        "id": "P7LuUHF0QOyB",
        "colab": {
          "base_uri": "https://localhost:8080/",
          "height": 299
        },
        "outputId": "ee3bce52-8e92-4d71-87cd-8500ad5a91e2"
      },
      "execution_count": 5,
      "outputs": [
        {
          "output_type": "execute_result",
          "data": {
            "text/plain": [
              "      label  pixel1  pixel2  pixel3  pixel4  pixel5  pixel6  pixel7  pixel8  \\\n",
              "0  pullover       0       0       0       0       0       0       0       0   \n",
              "1      boot       0       0       0       0       0       0       0       0   \n",
              "2     shirt       0       0       0       0       0       0       0       5   \n",
              "3       tee       0       0       0       1       2       0       0       0   \n",
              "4     dress       0       0       0       0       0       0       0       0   \n",
              "\n",
              "   pixel9  ...  pixel775  pixel776  pixel777  pixel778  pixel779  pixel780  \\\n",
              "0       0  ...         0         0         0         0         0         0   \n",
              "1       0  ...         0         0         0         0         0         0   \n",
              "2       0  ...         0         0         0        30        43         0   \n",
              "3       0  ...         3         0         0         0         0         1   \n",
              "4       0  ...         0         0         0         0         0         0   \n",
              "\n",
              "   pixel781  pixel782  pixel783  pixel784  \n",
              "0         0         0         0         0  \n",
              "1         0         0         0         0  \n",
              "2         0         0         0         0  \n",
              "3         0         0         0         0  \n",
              "4         0         0         0         0  \n",
              "\n",
              "[5 rows x 785 columns]"
            ],
            "text/html": [
              "\n",
              "  <div id=\"df-fb713079-32cc-49b1-b021-ac9819013696\">\n",
              "    <div class=\"colab-df-container\">\n",
              "      <div>\n",
              "<style scoped>\n",
              "    .dataframe tbody tr th:only-of-type {\n",
              "        vertical-align: middle;\n",
              "    }\n",
              "\n",
              "    .dataframe tbody tr th {\n",
              "        vertical-align: top;\n",
              "    }\n",
              "\n",
              "    .dataframe thead th {\n",
              "        text-align: right;\n",
              "    }\n",
              "</style>\n",
              "<table border=\"1\" class=\"dataframe\">\n",
              "  <thead>\n",
              "    <tr style=\"text-align: right;\">\n",
              "      <th></th>\n",
              "      <th>label</th>\n",
              "      <th>pixel1</th>\n",
              "      <th>pixel2</th>\n",
              "      <th>pixel3</th>\n",
              "      <th>pixel4</th>\n",
              "      <th>pixel5</th>\n",
              "      <th>pixel6</th>\n",
              "      <th>pixel7</th>\n",
              "      <th>pixel8</th>\n",
              "      <th>pixel9</th>\n",
              "      <th>...</th>\n",
              "      <th>pixel775</th>\n",
              "      <th>pixel776</th>\n",
              "      <th>pixel777</th>\n",
              "      <th>pixel778</th>\n",
              "      <th>pixel779</th>\n",
              "      <th>pixel780</th>\n",
              "      <th>pixel781</th>\n",
              "      <th>pixel782</th>\n",
              "      <th>pixel783</th>\n",
              "      <th>pixel784</th>\n",
              "    </tr>\n",
              "  </thead>\n",
              "  <tbody>\n",
              "    <tr>\n",
              "      <th>0</th>\n",
              "      <td>pullover</td>\n",
              "      <td>0</td>\n",
              "      <td>0</td>\n",
              "      <td>0</td>\n",
              "      <td>0</td>\n",
              "      <td>0</td>\n",
              "      <td>0</td>\n",
              "      <td>0</td>\n",
              "      <td>0</td>\n",
              "      <td>0</td>\n",
              "      <td>...</td>\n",
              "      <td>0</td>\n",
              "      <td>0</td>\n",
              "      <td>0</td>\n",
              "      <td>0</td>\n",
              "      <td>0</td>\n",
              "      <td>0</td>\n",
              "      <td>0</td>\n",
              "      <td>0</td>\n",
              "      <td>0</td>\n",
              "      <td>0</td>\n",
              "    </tr>\n",
              "    <tr>\n",
              "      <th>1</th>\n",
              "      <td>boot</td>\n",
              "      <td>0</td>\n",
              "      <td>0</td>\n",
              "      <td>0</td>\n",
              "      <td>0</td>\n",
              "      <td>0</td>\n",
              "      <td>0</td>\n",
              "      <td>0</td>\n",
              "      <td>0</td>\n",
              "      <td>0</td>\n",
              "      <td>...</td>\n",
              "      <td>0</td>\n",
              "      <td>0</td>\n",
              "      <td>0</td>\n",
              "      <td>0</td>\n",
              "      <td>0</td>\n",
              "      <td>0</td>\n",
              "      <td>0</td>\n",
              "      <td>0</td>\n",
              "      <td>0</td>\n",
              "      <td>0</td>\n",
              "    </tr>\n",
              "    <tr>\n",
              "      <th>2</th>\n",
              "      <td>shirt</td>\n",
              "      <td>0</td>\n",
              "      <td>0</td>\n",
              "      <td>0</td>\n",
              "      <td>0</td>\n",
              "      <td>0</td>\n",
              "      <td>0</td>\n",
              "      <td>0</td>\n",
              "      <td>5</td>\n",
              "      <td>0</td>\n",
              "      <td>...</td>\n",
              "      <td>0</td>\n",
              "      <td>0</td>\n",
              "      <td>0</td>\n",
              "      <td>30</td>\n",
              "      <td>43</td>\n",
              "      <td>0</td>\n",
              "      <td>0</td>\n",
              "      <td>0</td>\n",
              "      <td>0</td>\n",
              "      <td>0</td>\n",
              "    </tr>\n",
              "    <tr>\n",
              "      <th>3</th>\n",
              "      <td>tee</td>\n",
              "      <td>0</td>\n",
              "      <td>0</td>\n",
              "      <td>0</td>\n",
              "      <td>1</td>\n",
              "      <td>2</td>\n",
              "      <td>0</td>\n",
              "      <td>0</td>\n",
              "      <td>0</td>\n",
              "      <td>0</td>\n",
              "      <td>...</td>\n",
              "      <td>3</td>\n",
              "      <td>0</td>\n",
              "      <td>0</td>\n",
              "      <td>0</td>\n",
              "      <td>0</td>\n",
              "      <td>1</td>\n",
              "      <td>0</td>\n",
              "      <td>0</td>\n",
              "      <td>0</td>\n",
              "      <td>0</td>\n",
              "    </tr>\n",
              "    <tr>\n",
              "      <th>4</th>\n",
              "      <td>dress</td>\n",
              "      <td>0</td>\n",
              "      <td>0</td>\n",
              "      <td>0</td>\n",
              "      <td>0</td>\n",
              "      <td>0</td>\n",
              "      <td>0</td>\n",
              "      <td>0</td>\n",
              "      <td>0</td>\n",
              "      <td>0</td>\n",
              "      <td>...</td>\n",
              "      <td>0</td>\n",
              "      <td>0</td>\n",
              "      <td>0</td>\n",
              "      <td>0</td>\n",
              "      <td>0</td>\n",
              "      <td>0</td>\n",
              "      <td>0</td>\n",
              "      <td>0</td>\n",
              "      <td>0</td>\n",
              "      <td>0</td>\n",
              "    </tr>\n",
              "  </tbody>\n",
              "</table>\n",
              "<p>5 rows × 785 columns</p>\n",
              "</div>\n",
              "      <button class=\"colab-df-convert\" onclick=\"convertToInteractive('df-fb713079-32cc-49b1-b021-ac9819013696')\"\n",
              "              title=\"Convert this dataframe to an interactive table.\"\n",
              "              style=\"display:none;\">\n",
              "        \n",
              "  <svg xmlns=\"http://www.w3.org/2000/svg\" height=\"24px\"viewBox=\"0 0 24 24\"\n",
              "       width=\"24px\">\n",
              "    <path d=\"M0 0h24v24H0V0z\" fill=\"none\"/>\n",
              "    <path d=\"M18.56 5.44l.94 2.06.94-2.06 2.06-.94-2.06-.94-.94-2.06-.94 2.06-2.06.94zm-11 1L8.5 8.5l.94-2.06 2.06-.94-2.06-.94L8.5 2.5l-.94 2.06-2.06.94zm10 10l.94 2.06.94-2.06 2.06-.94-2.06-.94-.94-2.06-.94 2.06-2.06.94z\"/><path d=\"M17.41 7.96l-1.37-1.37c-.4-.4-.92-.59-1.43-.59-.52 0-1.04.2-1.43.59L10.3 9.45l-7.72 7.72c-.78.78-.78 2.05 0 2.83L4 21.41c.39.39.9.59 1.41.59.51 0 1.02-.2 1.41-.59l7.78-7.78 2.81-2.81c.8-.78.8-2.07 0-2.86zM5.41 20L4 18.59l7.72-7.72 1.47 1.35L5.41 20z\"/>\n",
              "  </svg>\n",
              "      </button>\n",
              "      \n",
              "  <style>\n",
              "    .colab-df-container {\n",
              "      display:flex;\n",
              "      flex-wrap:wrap;\n",
              "      gap: 12px;\n",
              "    }\n",
              "\n",
              "    .colab-df-convert {\n",
              "      background-color: #E8F0FE;\n",
              "      border: none;\n",
              "      border-radius: 50%;\n",
              "      cursor: pointer;\n",
              "      display: none;\n",
              "      fill: #1967D2;\n",
              "      height: 32px;\n",
              "      padding: 0 0 0 0;\n",
              "      width: 32px;\n",
              "    }\n",
              "\n",
              "    .colab-df-convert:hover {\n",
              "      background-color: #E2EBFA;\n",
              "      box-shadow: 0px 1px 2px rgba(60, 64, 67, 0.3), 0px 1px 3px 1px rgba(60, 64, 67, 0.15);\n",
              "      fill: #174EA6;\n",
              "    }\n",
              "\n",
              "    [theme=dark] .colab-df-convert {\n",
              "      background-color: #3B4455;\n",
              "      fill: #D2E3FC;\n",
              "    }\n",
              "\n",
              "    [theme=dark] .colab-df-convert:hover {\n",
              "      background-color: #434B5C;\n",
              "      box-shadow: 0px 1px 3px 1px rgba(0, 0, 0, 0.15);\n",
              "      filter: drop-shadow(0px 1px 2px rgba(0, 0, 0, 0.3));\n",
              "      fill: #FFFFFF;\n",
              "    }\n",
              "  </style>\n",
              "\n",
              "      <script>\n",
              "        const buttonEl =\n",
              "          document.querySelector('#df-fb713079-32cc-49b1-b021-ac9819013696 button.colab-df-convert');\n",
              "        buttonEl.style.display =\n",
              "          google.colab.kernel.accessAllowed ? 'block' : 'none';\n",
              "\n",
              "        async function convertToInteractive(key) {\n",
              "          const element = document.querySelector('#df-fb713079-32cc-49b1-b021-ac9819013696');\n",
              "          const dataTable =\n",
              "            await google.colab.kernel.invokeFunction('convertToInteractive',\n",
              "                                                     [key], {});\n",
              "          if (!dataTable) return;\n",
              "\n",
              "          const docLinkHtml = 'Like what you see? Visit the ' +\n",
              "            '<a target=\"_blank\" href=https://colab.research.google.com/notebooks/data_table.ipynb>data table notebook</a>'\n",
              "            + ' to learn more about interactive tables.';\n",
              "          element.innerHTML = '';\n",
              "          dataTable['output_type'] = 'display_data';\n",
              "          await google.colab.output.renderOutput(dataTable, element);\n",
              "          const docLink = document.createElement('div');\n",
              "          docLink.innerHTML = docLinkHtml;\n",
              "          element.appendChild(docLink);\n",
              "        }\n",
              "      </script>\n",
              "    </div>\n",
              "  </div>\n",
              "  "
            ]
          },
          "metadata": {},
          "execution_count": 5
        }
      ]
    },
    {
      "cell_type": "code",
      "source": [
        "## Encoding the labels for easier compatibility with ANN/CNN\n",
        "\n",
        "obj_df = df['label']\n",
        "from sklearn import preprocessing\n",
        "le = preprocessing.LabelEncoder()\n",
        "le.fit(obj_df)\n",
        "aux=le.transform(obj_df)\n",
        "df.insert(0,'label_encoded',aux) ## Changing the label index to 0"
      ],
      "metadata": {
        "id": "weCKXGivRF1Y"
      },
      "execution_count": 6,
      "outputs": []
    },
    {
      "cell_type": "code",
      "source": [
        "df.head()"
      ],
      "metadata": {
        "id": "41HDLEkARR3P",
        "colab": {
          "base_uri": "https://localhost:8080/",
          "height": 299
        },
        "outputId": "d65bd797-55a6-4be6-f12f-0d8aa71c3541"
      },
      "execution_count": 7,
      "outputs": [
        {
          "output_type": "execute_result",
          "data": {
            "text/plain": [
              "   label_encoded     label  pixel1  pixel2  pixel3  pixel4  pixel5  pixel6  \\\n",
              "0              5  pullover       0       0       0       0       0       0   \n",
              "1              1      boot       0       0       0       0       0       0   \n",
              "2              6     shirt       0       0       0       0       0       0   \n",
              "3              9       tee       0       0       0       1       2       0   \n",
              "4              3     dress       0       0       0       0       0       0   \n",
              "\n",
              "   pixel7  pixel8  ...  pixel775  pixel776  pixel777  pixel778  pixel779  \\\n",
              "0       0       0  ...         0         0         0         0         0   \n",
              "1       0       0  ...         0         0         0         0         0   \n",
              "2       0       5  ...         0         0         0        30        43   \n",
              "3       0       0  ...         3         0         0         0         0   \n",
              "4       0       0  ...         0         0         0         0         0   \n",
              "\n",
              "   pixel780  pixel781  pixel782  pixel783  pixel784  \n",
              "0         0         0         0         0         0  \n",
              "1         0         0         0         0         0  \n",
              "2         0         0         0         0         0  \n",
              "3         1         0         0         0         0  \n",
              "4         0         0         0         0         0  \n",
              "\n",
              "[5 rows x 786 columns]"
            ],
            "text/html": [
              "\n",
              "  <div id=\"df-9462854e-22f2-4e5f-ad06-a1ea44f136ac\">\n",
              "    <div class=\"colab-df-container\">\n",
              "      <div>\n",
              "<style scoped>\n",
              "    .dataframe tbody tr th:only-of-type {\n",
              "        vertical-align: middle;\n",
              "    }\n",
              "\n",
              "    .dataframe tbody tr th {\n",
              "        vertical-align: top;\n",
              "    }\n",
              "\n",
              "    .dataframe thead th {\n",
              "        text-align: right;\n",
              "    }\n",
              "</style>\n",
              "<table border=\"1\" class=\"dataframe\">\n",
              "  <thead>\n",
              "    <tr style=\"text-align: right;\">\n",
              "      <th></th>\n",
              "      <th>label_encoded</th>\n",
              "      <th>label</th>\n",
              "      <th>pixel1</th>\n",
              "      <th>pixel2</th>\n",
              "      <th>pixel3</th>\n",
              "      <th>pixel4</th>\n",
              "      <th>pixel5</th>\n",
              "      <th>pixel6</th>\n",
              "      <th>pixel7</th>\n",
              "      <th>pixel8</th>\n",
              "      <th>...</th>\n",
              "      <th>pixel775</th>\n",
              "      <th>pixel776</th>\n",
              "      <th>pixel777</th>\n",
              "      <th>pixel778</th>\n",
              "      <th>pixel779</th>\n",
              "      <th>pixel780</th>\n",
              "      <th>pixel781</th>\n",
              "      <th>pixel782</th>\n",
              "      <th>pixel783</th>\n",
              "      <th>pixel784</th>\n",
              "    </tr>\n",
              "  </thead>\n",
              "  <tbody>\n",
              "    <tr>\n",
              "      <th>0</th>\n",
              "      <td>5</td>\n",
              "      <td>pullover</td>\n",
              "      <td>0</td>\n",
              "      <td>0</td>\n",
              "      <td>0</td>\n",
              "      <td>0</td>\n",
              "      <td>0</td>\n",
              "      <td>0</td>\n",
              "      <td>0</td>\n",
              "      <td>0</td>\n",
              "      <td>...</td>\n",
              "      <td>0</td>\n",
              "      <td>0</td>\n",
              "      <td>0</td>\n",
              "      <td>0</td>\n",
              "      <td>0</td>\n",
              "      <td>0</td>\n",
              "      <td>0</td>\n",
              "      <td>0</td>\n",
              "      <td>0</td>\n",
              "      <td>0</td>\n",
              "    </tr>\n",
              "    <tr>\n",
              "      <th>1</th>\n",
              "      <td>1</td>\n",
              "      <td>boot</td>\n",
              "      <td>0</td>\n",
              "      <td>0</td>\n",
              "      <td>0</td>\n",
              "      <td>0</td>\n",
              "      <td>0</td>\n",
              "      <td>0</td>\n",
              "      <td>0</td>\n",
              "      <td>0</td>\n",
              "      <td>...</td>\n",
              "      <td>0</td>\n",
              "      <td>0</td>\n",
              "      <td>0</td>\n",
              "      <td>0</td>\n",
              "      <td>0</td>\n",
              "      <td>0</td>\n",
              "      <td>0</td>\n",
              "      <td>0</td>\n",
              "      <td>0</td>\n",
              "      <td>0</td>\n",
              "    </tr>\n",
              "    <tr>\n",
              "      <th>2</th>\n",
              "      <td>6</td>\n",
              "      <td>shirt</td>\n",
              "      <td>0</td>\n",
              "      <td>0</td>\n",
              "      <td>0</td>\n",
              "      <td>0</td>\n",
              "      <td>0</td>\n",
              "      <td>0</td>\n",
              "      <td>0</td>\n",
              "      <td>5</td>\n",
              "      <td>...</td>\n",
              "      <td>0</td>\n",
              "      <td>0</td>\n",
              "      <td>0</td>\n",
              "      <td>30</td>\n",
              "      <td>43</td>\n",
              "      <td>0</td>\n",
              "      <td>0</td>\n",
              "      <td>0</td>\n",
              "      <td>0</td>\n",
              "      <td>0</td>\n",
              "    </tr>\n",
              "    <tr>\n",
              "      <th>3</th>\n",
              "      <td>9</td>\n",
              "      <td>tee</td>\n",
              "      <td>0</td>\n",
              "      <td>0</td>\n",
              "      <td>0</td>\n",
              "      <td>1</td>\n",
              "      <td>2</td>\n",
              "      <td>0</td>\n",
              "      <td>0</td>\n",
              "      <td>0</td>\n",
              "      <td>...</td>\n",
              "      <td>3</td>\n",
              "      <td>0</td>\n",
              "      <td>0</td>\n",
              "      <td>0</td>\n",
              "      <td>0</td>\n",
              "      <td>1</td>\n",
              "      <td>0</td>\n",
              "      <td>0</td>\n",
              "      <td>0</td>\n",
              "      <td>0</td>\n",
              "    </tr>\n",
              "    <tr>\n",
              "      <th>4</th>\n",
              "      <td>3</td>\n",
              "      <td>dress</td>\n",
              "      <td>0</td>\n",
              "      <td>0</td>\n",
              "      <td>0</td>\n",
              "      <td>0</td>\n",
              "      <td>0</td>\n",
              "      <td>0</td>\n",
              "      <td>0</td>\n",
              "      <td>0</td>\n",
              "      <td>...</td>\n",
              "      <td>0</td>\n",
              "      <td>0</td>\n",
              "      <td>0</td>\n",
              "      <td>0</td>\n",
              "      <td>0</td>\n",
              "      <td>0</td>\n",
              "      <td>0</td>\n",
              "      <td>0</td>\n",
              "      <td>0</td>\n",
              "      <td>0</td>\n",
              "    </tr>\n",
              "  </tbody>\n",
              "</table>\n",
              "<p>5 rows × 786 columns</p>\n",
              "</div>\n",
              "      <button class=\"colab-df-convert\" onclick=\"convertToInteractive('df-9462854e-22f2-4e5f-ad06-a1ea44f136ac')\"\n",
              "              title=\"Convert this dataframe to an interactive table.\"\n",
              "              style=\"display:none;\">\n",
              "        \n",
              "  <svg xmlns=\"http://www.w3.org/2000/svg\" height=\"24px\"viewBox=\"0 0 24 24\"\n",
              "       width=\"24px\">\n",
              "    <path d=\"M0 0h24v24H0V0z\" fill=\"none\"/>\n",
              "    <path d=\"M18.56 5.44l.94 2.06.94-2.06 2.06-.94-2.06-.94-.94-2.06-.94 2.06-2.06.94zm-11 1L8.5 8.5l.94-2.06 2.06-.94-2.06-.94L8.5 2.5l-.94 2.06-2.06.94zm10 10l.94 2.06.94-2.06 2.06-.94-2.06-.94-.94-2.06-.94 2.06-2.06.94z\"/><path d=\"M17.41 7.96l-1.37-1.37c-.4-.4-.92-.59-1.43-.59-.52 0-1.04.2-1.43.59L10.3 9.45l-7.72 7.72c-.78.78-.78 2.05 0 2.83L4 21.41c.39.39.9.59 1.41.59.51 0 1.02-.2 1.41-.59l7.78-7.78 2.81-2.81c.8-.78.8-2.07 0-2.86zM5.41 20L4 18.59l7.72-7.72 1.47 1.35L5.41 20z\"/>\n",
              "  </svg>\n",
              "      </button>\n",
              "      \n",
              "  <style>\n",
              "    .colab-df-container {\n",
              "      display:flex;\n",
              "      flex-wrap:wrap;\n",
              "      gap: 12px;\n",
              "    }\n",
              "\n",
              "    .colab-df-convert {\n",
              "      background-color: #E8F0FE;\n",
              "      border: none;\n",
              "      border-radius: 50%;\n",
              "      cursor: pointer;\n",
              "      display: none;\n",
              "      fill: #1967D2;\n",
              "      height: 32px;\n",
              "      padding: 0 0 0 0;\n",
              "      width: 32px;\n",
              "    }\n",
              "\n",
              "    .colab-df-convert:hover {\n",
              "      background-color: #E2EBFA;\n",
              "      box-shadow: 0px 1px 2px rgba(60, 64, 67, 0.3), 0px 1px 3px 1px rgba(60, 64, 67, 0.15);\n",
              "      fill: #174EA6;\n",
              "    }\n",
              "\n",
              "    [theme=dark] .colab-df-convert {\n",
              "      background-color: #3B4455;\n",
              "      fill: #D2E3FC;\n",
              "    }\n",
              "\n",
              "    [theme=dark] .colab-df-convert:hover {\n",
              "      background-color: #434B5C;\n",
              "      box-shadow: 0px 1px 3px 1px rgba(0, 0, 0, 0.15);\n",
              "      filter: drop-shadow(0px 1px 2px rgba(0, 0, 0, 0.3));\n",
              "      fill: #FFFFFF;\n",
              "    }\n",
              "  </style>\n",
              "\n",
              "      <script>\n",
              "        const buttonEl =\n",
              "          document.querySelector('#df-9462854e-22f2-4e5f-ad06-a1ea44f136ac button.colab-df-convert');\n",
              "        buttonEl.style.display =\n",
              "          google.colab.kernel.accessAllowed ? 'block' : 'none';\n",
              "\n",
              "        async function convertToInteractive(key) {\n",
              "          const element = document.querySelector('#df-9462854e-22f2-4e5f-ad06-a1ea44f136ac');\n",
              "          const dataTable =\n",
              "            await google.colab.kernel.invokeFunction('convertToInteractive',\n",
              "                                                     [key], {});\n",
              "          if (!dataTable) return;\n",
              "\n",
              "          const docLinkHtml = 'Like what you see? Visit the ' +\n",
              "            '<a target=\"_blank\" href=https://colab.research.google.com/notebooks/data_table.ipynb>data table notebook</a>'\n",
              "            + ' to learn more about interactive tables.';\n",
              "          element.innerHTML = '';\n",
              "          dataTable['output_type'] = 'display_data';\n",
              "          await google.colab.output.renderOutput(dataTable, element);\n",
              "          const docLink = document.createElement('div');\n",
              "          docLink.innerHTML = docLinkHtml;\n",
              "          element.appendChild(docLink);\n",
              "        }\n",
              "      </script>\n",
              "    </div>\n",
              "  </div>\n",
              "  "
            ]
          },
          "metadata": {},
          "execution_count": 7
        }
      ]
    },
    {
      "cell_type": "code",
      "source": [
        "# TensorFlow and tf.keras\n",
        "import tensorflow as tf\n",
        "\n",
        "# Helper libraries\n",
        "import numpy as np\n",
        "import matplotlib.pyplot as plt\n"
      ],
      "metadata": {
        "id": "aOEySptQRY8d"
      },
      "execution_count": 8,
      "outputs": []
    },
    {
      "cell_type": "code",
      "source": [
        "from sklearn.model_selection import train_test_split"
      ],
      "metadata": {
        "id": "u44HIdEURhX4"
      },
      "execution_count": 9,
      "outputs": []
    },
    {
      "cell_type": "markdown",
      "source": [
        "**Train-test split**"
      ],
      "metadata": {
        "id": "-nlxVN-hD2bI"
      }
    },
    {
      "cell_type": "code",
      "source": [
        "## Creating the predictor and response variables\n",
        "## y is of shape (4715,)\n",
        "## X is of shape (4715, 784)\n",
        "\n",
        "y=np.asarray(df['label_encoded'])\n",
        "X=np.asarray(df.iloc[:,2:])"
      ],
      "metadata": {
        "id": "ntZgwk_lRjVk"
      },
      "execution_count": 10,
      "outputs": []
    },
    {
      "cell_type": "code",
      "source": [
        "## First 100 label encoded values of y\n",
        "\n",
        "print(y[:100])"
      ],
      "metadata": {
        "id": "Ud5jRH3IRoF7",
        "colab": {
          "base_uri": "https://localhost:8080/"
        },
        "outputId": "8b960e93-5370-4dc5-ba9a-d8acb2f28b48"
      },
      "execution_count": 11,
      "outputs": [
        {
          "output_type": "stream",
          "name": "stdout",
          "text": [
            "[5 1 6 9 3 2 2 8 2 0 9 0 1 9 5 5 1 3 3 3 0 7 2 2 9 2 2 0 7 4 8 9 8 3 5 7 3\n",
            " 2 5 4 6 9 1 6 9 8 6 7 7 5 8 5 5 2 4 2 1 0 3 2 8 8 6 3 8 0 8 1 0 4 5 0 4 3\n",
            " 6 0 3 2 5 8 9 5 6 0 4 5 7 6 6 2 6 8 9 4 7 3 8 0 2 3]\n"
          ]
        }
      ]
    },
    {
      "cell_type": "code",
      "source": [
        "## Minor detail: changing y shape from (475,) to (475,1)\n",
        "\n",
        "y=y.reshape(y.shape[0],1)"
      ],
      "metadata": {
        "id": "1zZ2wqJ8RrBv"
      },
      "execution_count": 12,
      "outputs": []
    },
    {
      "cell_type": "code",
      "source": [
        "class_names = ['T-shirt/top', 'Trouser', 'Pullover', 'Dress', 'Coat',\n",
        "               'Sandal', 'Shirt', 'Sneaker', 'Bag', 'Ankle boot']"
      ],
      "metadata": {
        "id": "ujz2BTaXSQG_"
      },
      "execution_count": 13,
      "outputs": []
    },
    {
      "cell_type": "code",
      "source": [
        "train_images_ar, test_images_ar, train_labels_ar, test_labels_ar = train_test_split(X, y, test_size=0.33, random_state=42)\n",
        "# I change the name a bit, so I can use the array type in my code. (Juan Yi)"
      ],
      "metadata": {
        "id": "LRD_SVHqSRpz"
      },
      "execution_count": 14,
      "outputs": []
    },
    {
      "cell_type": "markdown",
      "source": [
        "**Data standardization**"
      ],
      "metadata": {
        "id": "HYim9nGMD7Xg"
      }
    },
    {
      "cell_type": "code",
      "source": [
        "# Add in a normalization \n",
        "def standardize_dataset(X):\n",
        "  '''\n",
        "  X: numpy array\n",
        "  RETURN\n",
        "  X_std: numpy array\n",
        "  '''\n",
        "  X_std = (X - X.mean())/X.std()  # since we only care about the shape, not the 'brightness' ('strength putted when writing the word'?) of the picture.\n",
        "  return X_std\n",
        "\n",
        "train_images_std = standardize_dataset(train_images_ar)\n",
        "test_images_std = standardize_dataset(test_images_ar)"
      ],
      "metadata": {
        "id": "OduIiK_SSXm5"
      },
      "execution_count": 15,
      "outputs": []
    },
    {
      "cell_type": "code",
      "source": [
        "# reshaping the data to fit the model\n",
        "\n",
        "train_images=train_images_std.reshape(train_images_std.shape[0],28,28)\n",
        "test_images=test_images_std.reshape(test_images_std.shape[0],28,28)"
      ],
      "metadata": {
        "id": "s10HNFACUb4j"
      },
      "execution_count": 16,
      "outputs": []
    },
    {
      "cell_type": "code",
      "source": [
        "print(train_images.shape,test_images.shape,train_labels_ar.shape,test_labels_ar.shape)"
      ],
      "metadata": {
        "id": "Ui20BX_NhLe-",
        "colab": {
          "base_uri": "https://localhost:8080/"
        },
        "outputId": "e76dc45c-d2db-4c36-e068-e0cb3f88218f"
      },
      "execution_count": 17,
      "outputs": [
        {
          "output_type": "stream",
          "name": "stdout",
          "text": [
            "(40200, 28, 28) (19800, 28, 28) (40200, 1) (19800, 1)\n"
          ]
        }
      ]
    },
    {
      "cell_type": "markdown",
      "source": [
        "# ANN (including epoch optimization)"
      ],
      "metadata": {
        "id": "1zD2i_sNWyh5"
      }
    },
    {
      "cell_type": "code",
      "source": [
        "# Model setup\n",
        "\n",
        "model = tf.keras.Sequential([\n",
        "    tf.keras.layers.Flatten(input_shape=(28,28)),\n",
        "    tf.keras.layers.Dense(128, activation='relu'),\n",
        "    tf.keras.layers.Dense(10)\n",
        "])"
      ],
      "metadata": {
        "id": "PNNHNSERTJHB"
      },
      "execution_count": 18,
      "outputs": []
    },
    {
      "cell_type": "code",
      "source": [
        "model.summary()"
      ],
      "metadata": {
        "id": "3Y1kHgs9WsZC",
        "colab": {
          "base_uri": "https://localhost:8080/"
        },
        "outputId": "48e8d89d-a6e8-4e07-e662-231097daa7de"
      },
      "execution_count": 19,
      "outputs": [
        {
          "output_type": "stream",
          "name": "stdout",
          "text": [
            "Model: \"sequential\"\n",
            "_________________________________________________________________\n",
            " Layer (type)                Output Shape              Param #   \n",
            "=================================================================\n",
            " flatten (Flatten)           (None, 784)               0         \n",
            "                                                                 \n",
            " dense (Dense)               (None, 128)               100480    \n",
            "                                                                 \n",
            " dense_1 (Dense)             (None, 10)                1290      \n",
            "                                                                 \n",
            "=================================================================\n",
            "Total params: 101,770\n",
            "Trainable params: 101,770\n",
            "Non-trainable params: 0\n",
            "_________________________________________________________________\n"
          ]
        }
      ]
    },
    {
      "cell_type": "code",
      "source": [
        "# model compilation\n",
        "\n",
        "model.compile(optimizer='adam',\n",
        "              loss=tf.keras.losses.SparseCategoricalCrossentropy(from_logits=True),\n",
        "              metrics=['accuracy'])"
      ],
      "metadata": {
        "id": "O3ok559xTgcT"
      },
      "execution_count": 20,
      "outputs": []
    },
    {
      "cell_type": "code",
      "source": [
        "# Setting up timer\n",
        "\n",
        "import time\n",
        "def exec_time(start, end):\n",
        "   diff_time = end - start\n",
        "   return diff_time"
      ],
      "metadata": {
        "id": "tu4Wv5IcB79u"
      },
      "execution_count": 21,
      "outputs": []
    },
    {
      "cell_type": "code",
      "source": [
        "history_ann=model.fit(train_images, train_labels_ar, epochs=10,validation_data=(test_images,test_labels_ar))"
      ],
      "metadata": {
        "id": "n_bbitMKTjat",
        "colab": {
          "base_uri": "https://localhost:8080/"
        },
        "outputId": "4805bef8-9578-4681-c4f1-927f6fff438e"
      },
      "execution_count": 22,
      "outputs": [
        {
          "output_type": "stream",
          "name": "stdout",
          "text": [
            "Epoch 1/10\n",
            "1257/1257 [==============================] - 7s 3ms/step - loss: 0.4872 - accuracy: 0.8243 - val_loss: 0.3961 - val_accuracy: 0.8548\n",
            "Epoch 2/10\n",
            "1257/1257 [==============================] - 4s 3ms/step - loss: 0.3704 - accuracy: 0.8637 - val_loss: 0.4246 - val_accuracy: 0.8476\n",
            "Epoch 3/10\n",
            "1257/1257 [==============================] - 4s 3ms/step - loss: 0.3301 - accuracy: 0.8768 - val_loss: 0.3736 - val_accuracy: 0.8669\n",
            "Epoch 4/10\n",
            "1257/1257 [==============================] - 4s 3ms/step - loss: 0.3087 - accuracy: 0.8860 - val_loss: 0.3539 - val_accuracy: 0.8752\n",
            "Epoch 5/10\n",
            "1257/1257 [==============================] - 4s 3ms/step - loss: 0.2860 - accuracy: 0.8936 - val_loss: 0.3577 - val_accuracy: 0.8714\n",
            "Epoch 6/10\n",
            "1257/1257 [==============================] - 4s 4ms/step - loss: 0.2723 - accuracy: 0.8983 - val_loss: 0.3524 - val_accuracy: 0.8752\n",
            "Epoch 7/10\n",
            "1257/1257 [==============================] - 4s 3ms/step - loss: 0.2580 - accuracy: 0.9039 - val_loss: 0.3540 - val_accuracy: 0.8792\n",
            "Epoch 8/10\n",
            "1257/1257 [==============================] - 5s 4ms/step - loss: 0.2428 - accuracy: 0.9091 - val_loss: 0.4043 - val_accuracy: 0.8601\n",
            "Epoch 9/10\n",
            "1257/1257 [==============================] - 5s 4ms/step - loss: 0.2321 - accuracy: 0.9129 - val_loss: 0.3644 - val_accuracy: 0.8777\n",
            "Epoch 10/10\n",
            "1257/1257 [==============================] - 4s 3ms/step - loss: 0.2230 - accuracy: 0.9160 - val_loss: 0.3500 - val_accuracy: 0.8850\n"
          ]
        }
      ]
    },
    {
      "cell_type": "code",
      "source": [
        "# ANN evaluation\n",
        "\n",
        "test_loss, test_acc = model.evaluate(test_images,  test_labels_ar, verbose=2)\n",
        "\n",
        "print('\\nTest accuracy:', test_acc)"
      ],
      "metadata": {
        "id": "KZ6gXeihTsF5",
        "colab": {
          "base_uri": "https://localhost:8080/"
        },
        "outputId": "30ce5aa6-f0e5-4b2f-d0ff-7cae294f7b73"
      },
      "execution_count": 23,
      "outputs": [
        {
          "output_type": "stream",
          "name": "stdout",
          "text": [
            "619/619 - 1s - loss: 0.3500 - accuracy: 0.8850 - 1s/epoch - 2ms/step\n",
            "\n",
            "Test accuracy: 0.8849999904632568\n"
          ]
        }
      ]
    },
    {
      "cell_type": "markdown",
      "source": [
        "Plotting the validation accuracy to epochs"
      ],
      "metadata": {
        "id": "sO6jmj5Q6Vub"
      }
    },
    {
      "cell_type": "code",
      "source": [
        "import matplotlib as pyplot\n",
        "def plotHistory(history):\n",
        "  history_data = pd.DataFrame(history.history)\n",
        "  test_data_hist = pd.DataFrame(history_data[['val_loss','val_accuracy']])\n",
        "\n",
        "  # History for accuracy\n",
        "  test_data_hist.plot(figsize=(8,5))\n",
        "  plt.grid(True)\n",
        "  plt.gca().set_ylim(0,1)\n",
        "\n",
        "  # END CODE HERE\n",
        "  plt.show()"
      ],
      "metadata": {
        "id": "yQ5RWZ6VXLiM"
      },
      "execution_count": 24,
      "outputs": []
    },
    {
      "cell_type": "code",
      "source": [
        "plotHistory(history_ann)"
      ],
      "metadata": {
        "id": "FSWrV8NIXu-C",
        "colab": {
          "base_uri": "https://localhost:8080/",
          "height": 324
        },
        "outputId": "3dd67f73-69d0-48f3-9a45-cbc3d8a599cd"
      },
      "execution_count": 25,
      "outputs": [
        {
          "output_type": "display_data",
          "data": {
            "text/plain": [
              "<Figure size 576x360 with 1 Axes>"
            ],
            "image/png": "[encoded data removed]"
          },
          "metadata": {
            "needs_background": "light"
          }
        }
      ]
    },
    {
      "cell_type": "code",
      "source": [
        "## This gives us the probability of each class variable\n",
        "probability_model = tf.keras.Sequential([model, \n",
        "                                         tf.keras.layers.Softmax()])"
      ],
      "metadata": {
        "id": "8nXHnvhXWdYD"
      },
      "execution_count": 26,
      "outputs": []
    },
    {
      "cell_type": "code",
      "source": [
        "predictions = probability_model.predict(test_images)"
      ],
      "metadata": {
        "id": "2I91jV5sWii9",
        "colab": {
          "base_uri": "https://localhost:8080/"
        },
        "outputId": "6e022a7d-f23b-4f3f-d8e2-92453a816b0a"
      },
      "execution_count": 27,
      "outputs": [
        {
          "output_type": "stream",
          "name": "stdout",
          "text": [
            "619/619 [==============================] - 1s 1ms/step\n"
          ]
        }
      ]
    },
    {
      "cell_type": "code",
      "source": [
        "predictions[0]"
      ],
      "metadata": {
        "id": "n7f08EWDWkTL",
        "colab": {
          "base_uri": "https://localhost:8080/"
        },
        "outputId": "24f8c1f0-166a-46a0-ec59-28f2e44e1157"
      },
      "execution_count": 28,
      "outputs": [
        {
          "output_type": "execute_result",
          "data": {
            "text/plain": [
              "array([2.2430627e-06, 2.4382758e-05, 6.7068690e-08, 1.9301438e-10,\n",
              "       3.7101923e-08, 5.1418492e-10, 5.1353561e-12, 9.9993622e-01,\n",
              "       3.7115708e-05, 7.6913987e-12], dtype=float32)"
            ]
          },
          "metadata": {},
          "execution_count": 28
        }
      ]
    },
    {
      "cell_type": "code",
      "source": [
        "## This predicts that the pixels in the 1st row is most likely to represent class 8\n",
        "\n",
        "maxClass=np.argmax(predictions[0])\n",
        "maxClass"
      ],
      "metadata": {
        "id": "bRxFAna0Wm89",
        "colab": {
          "base_uri": "https://localhost:8080/"
        },
        "outputId": "62e73d5a-19c0-4586-82aa-7e97085b783d"
      },
      "execution_count": 29,
      "outputs": [
        {
          "output_type": "execute_result",
          "data": {
            "text/plain": [
              "7"
            ]
          },
          "metadata": {},
          "execution_count": 29
        }
      ]
    },
    {
      "cell_type": "code",
      "source": [
        "## Decoding the meaning of 8\n",
        "\n",
        "le.inverse_transform([np.argmax(predictions[0])])"
      ],
      "metadata": {
        "id": "vWDk0TOCWpC-",
        "colab": {
          "base_uri": "https://localhost:8080/"
        },
        "outputId": "5e38a1a9-b050-47d0-a91b-c3d8940f4ec9"
      },
      "execution_count": 30,
      "outputs": [
        {
          "output_type": "execute_result",
          "data": {
            "text/plain": [
              "array(['shoes'], dtype=object)"
            ]
          },
          "metadata": {},
          "execution_count": 30
        }
      ]
    },
    {
      "cell_type": "code",
      "source": [
        "le.inverse_transform(test_labels_ar[0])"
      ],
      "metadata": {
        "id": "fksqXKRhWqkt",
        "colab": {
          "base_uri": "https://localhost:8080/"
        },
        "outputId": "c7f86edb-1a25-419f-a446-75aaf4398943"
      },
      "execution_count": 31,
      "outputs": [
        {
          "output_type": "execute_result",
          "data": {
            "text/plain": [
              "array(['shoes'], dtype=object)"
            ]
          },
          "metadata": {},
          "execution_count": 31
        }
      ]
    },
    {
      "cell_type": "markdown",
      "source": [
        "# CNN (including epoch optimization)"
      ],
      "metadata": {
        "id": "xSaXMxJ8Wtb7"
      }
    },
    {
      "cell_type": "code",
      "source": [
        "train_labels_ar.shape"
      ],
      "metadata": {
        "id": "gIZCaE82dSMY",
        "colab": {
          "base_uri": "https://localhost:8080/"
        },
        "outputId": "01b6b7c8-d235-4539-de03-075273fe663a"
      },
      "execution_count": 32,
      "outputs": [
        {
          "output_type": "execute_result",
          "data": {
            "text/plain": [
              "(40200, 1)"
            ]
          },
          "metadata": {},
          "execution_count": 32
        }
      ]
    },
    {
      "cell_type": "code",
      "source": [
        "# one-hot encoding\n",
        "train_labels_onehot = tf.one_hot(train_labels_ar, depth = 10)\n",
        "test_labels_onehot = tf.one_hot(test_labels_ar, depth = 10)"
      ],
      "metadata": {
        "id": "Ug23z5-xdMf9"
      },
      "execution_count": 33,
      "outputs": []
    },
    {
      "cell_type": "code",
      "source": [
        "train_labels_onehot=tf.reshape(train_labels_onehot,[train_labels_onehot.shape[0],10])\n",
        "test_labels_onehot=tf.reshape(test_labels_onehot,[test_labels_onehot.shape[0],10])"
      ],
      "metadata": {
        "id": "sPZISc77e9P7"
      },
      "execution_count": 34,
      "outputs": []
    },
    {
      "cell_type": "code",
      "source": [
        "model_cnn = tf.keras.models.Sequential()\n",
        "\n",
        "## first CONV => RELU => CONV => RELU => POOL layer set ##\n",
        "model_cnn.add(tf.keras.layers.Conv2D(32, (3, 3), padding = \"same\", activation = 'relu', input_shape = (28,28,1)))\n",
        "model_cnn.add(tf.keras.layers.Conv2D(32, (3, 3), padding=\"same\", activation = 'relu'))\n",
        "model_cnn.add(tf.keras.layers.MaxPooling2D(pool_size=(2, 2)))\n",
        "\n",
        "\n",
        "## second CONV => RELU => CONV => RELU => POOL layer set ##\n",
        "model_cnn.add(tf.keras.layers.Conv2D(64, (3, 3), padding = \"same\", activation = 'relu'))\n",
        "model_cnn.add(tf.keras.layers.Conv2D(64, (3, 3), padding=\"same\", activation = 'relu'))\n",
        "model_cnn.add(tf.keras.layers.MaxPooling2D(pool_size=(2, 2)))\n",
        "\n",
        "\n",
        "## first (and only) set of FC => RELU layers ##\n",
        "model_cnn.add(tf.keras.layers.Flatten())\n",
        "model_cnn.add(tf.keras.layers.Dense(512, activation = 'relu'))\n",
        "model_cnn.add(tf.keras.layers.Dense(10, activation = 'softmax'))\n",
        "\n",
        "# copy from https://pyimagesearch.com/2019/02/11/fashion-mnist-with-keras-and-deep-learning/\n",
        "\n",
        "NUM_EPOCHS = 10\n",
        "INIT_LR = 1e-2\n",
        "BS = 32\n",
        "\n",
        "opt = tf.keras.optimizers.SGD(lr=INIT_LR, momentum=0.9, decay=INIT_LR / NUM_EPOCHS)\n",
        "model_cnn.compile(loss=\"categorical_crossentropy\", optimizer=opt, metrics=[\"accuracy\"])\n",
        "\n",
        "tf.keras.utils.plot_model(model_cnn, show_shapes = True)"
      ],
      "metadata": {
        "id": "cMjMD7xDW_sA",
        "colab": {
          "base_uri": "https://localhost:8080/",
          "height": 1000
        },
        "outputId": "06db54e0-f436-4fc9-8c0d-3771750388ac"
      },
      "execution_count": 35,
      "outputs": [
        {
          "output_type": "stream",
          "name": "stderr",
          "text": [
            "/usr/local/lib/python3.7/dist-packages/keras/optimizers/optimizer_v2/gradient_descent.py:108: UserWarning: The `lr` argument is deprecated, use `learning_rate` instead.\n",
            "  super(SGD, self).__init__(name, **kwargs)\n"
          ]
        },
        {
          "output_type": "execute_result",
          "data": {
            "image/png": "[encoded data removed]",
            "text/plain": [
              "<IPython.core.display.Image object>"
            ]
          },
          "metadata": {},
          "execution_count": 35
        }
      ]
    },
    {
      "cell_type": "code",
      "source": [
        "# Some details about the CNN inputs\n",
        "print(train_images.shape,train_labels_ar.shape)"
      ],
      "metadata": {
        "id": "IPUYupmubUgf",
        "colab": {
          "base_uri": "https://localhost:8080/"
        },
        "outputId": "1f86a32f-73ea-4cf5-8ccd-5fad98e522e3"
      },
      "execution_count": 36,
      "outputs": [
        {
          "output_type": "stream",
          "name": "stdout",
          "text": [
            "(40200, 28, 28) (40200, 1)\n"
          ]
        }
      ]
    },
    {
      "cell_type": "code",
      "source": [
        "print(train_labels_onehot.shape,test_labels_onehot.shape)"
      ],
      "metadata": {
        "id": "mNYFGHU6eMe7",
        "colab": {
          "base_uri": "https://localhost:8080/"
        },
        "outputId": "8315cccb-d0ed-4a5b-d33b-74c3417aa155"
      },
      "execution_count": 37,
      "outputs": [
        {
          "output_type": "stream",
          "name": "stdout",
          "text": [
            "(40200, 10) (19800, 10)\n"
          ]
        }
      ]
    },
    {
      "cell_type": "code",
      "source": [
        "type(train_labels_onehot)"
      ],
      "metadata": {
        "id": "_rglgOZzeVd9",
        "colab": {
          "base_uri": "https://localhost:8080/"
        },
        "outputId": "ef5881fe-a8f6-40a6-cae3-cde349a40750"
      },
      "execution_count": 38,
      "outputs": [
        {
          "output_type": "execute_result",
          "data": {
            "text/plain": [
              "tensorflow.python.framework.ops.EagerTensor"
            ]
          },
          "metadata": {},
          "execution_count": 38
        }
      ]
    },
    {
      "cell_type": "code",
      "source": [
        "tf.config.run_functions_eagerly(True)\n",
        "history_cnn=model_cnn.fit(train_images,train_labels_onehot, epochs=10, batch_size = BS,validation_data = (test_images, test_labels_onehot))"
      ],
      "metadata": {
        "id": "MvaSbyc6aoDN",
        "colab": {
          "base_uri": "https://localhost:8080/"
        },
        "outputId": "32526400-6894-4455-c12b-aa351f03b98d"
      },
      "execution_count": 39,
      "outputs": [
        {
          "output_type": "stream",
          "name": "stdout",
          "text": [
            "Epoch 1/10\n"
          ]
        },
        {
          "output_type": "stream",
          "name": "stderr",
          "text": [
            "/usr/local/lib/python3.7/dist-packages/tensorflow/python/data/ops/structured_function.py:265: UserWarning: Even though the `tf.config.experimental_run_functions_eagerly` option is set, this option does not apply to tf.data functions. To force eager execution of tf.data functions, please use `tf.data.experimental.enable_debug_mode()`.\n",
            "  \"Even though the `tf.config.experimental_run_functions_eagerly` \"\n"
          ]
        },
        {
          "output_type": "stream",
          "name": "stdout",
          "text": [
            "1257/1257 [==============================] - 43s 30ms/step - loss: 0.4724 - accuracy: 0.8287 - val_loss: 0.3285 - val_accuracy: 0.8817\n",
            "Epoch 2/10\n",
            "1257/1257 [==============================] - 38s 30ms/step - loss: 0.2862 - accuracy: 0.8959 - val_loss: 0.2769 - val_accuracy: 0.8999\n",
            "Epoch 3/10\n",
            "1257/1257 [==============================] - 36s 29ms/step - loss: 0.2358 - accuracy: 0.9143 - val_loss: 0.2589 - val_accuracy: 0.9068\n",
            "Epoch 4/10\n",
            "1257/1257 [==============================] - 34s 27ms/step - loss: 0.2058 - accuracy: 0.9249 - val_loss: 0.2612 - val_accuracy: 0.9015\n",
            "Epoch 5/10\n",
            "1257/1257 [==============================] - 38s 30ms/step - loss: 0.1837 - accuracy: 0.9330 - val_loss: 0.2384 - val_accuracy: 0.9138\n",
            "Epoch 6/10\n",
            "1257/1257 [==============================] - 37s 29ms/step - loss: 0.1641 - accuracy: 0.9405 - val_loss: 0.2363 - val_accuracy: 0.9158\n",
            "Epoch 7/10\n",
            "1257/1257 [==============================] - 33s 27ms/step - loss: 0.1484 - accuracy: 0.9464 - val_loss: 0.2360 - val_accuracy: 0.9163\n",
            "Epoch 8/10\n",
            "1257/1257 [==============================] - 38s 30ms/step - loss: 0.1344 - accuracy: 0.9502 - val_loss: 0.2381 - val_accuracy: 0.9166\n",
            "Epoch 9/10\n",
            "1257/1257 [==============================] - 34s 27ms/step - loss: 0.1209 - accuracy: 0.9565 - val_loss: 0.2429 - val_accuracy: 0.9176\n",
            "Epoch 10/10\n",
            "1257/1257 [==============================] - 34s 27ms/step - loss: 0.1088 - accuracy: 0.9612 - val_loss: 0.2473 - val_accuracy: 0.9175\n"
          ]
        }
      ]
    },
    {
      "cell_type": "code",
      "source": [
        "plotHistory(history_cnn)"
      ],
      "metadata": {
        "id": "fCVG9Oh-bL0b",
        "colab": {
          "base_uri": "https://localhost:8080/",
          "height": 324
        },
        "outputId": "dc9cdd95-3ef8-48b6-fa8e-485d46b089c7"
      },
      "execution_count": 40,
      "outputs": [
        {
          "output_type": "display_data",
          "data": {
            "text/plain": [
              "<Figure size 576x360 with 1 Axes>"
            ],
            "image/png": "[encoded data removed]"
          },
          "metadata": {
            "needs_background": "light"
          }
        }
      ]
    },
    {
      "cell_type": "markdown",
      "source": [
        "# Data Visualization (including RFC, SVC, GBC model training)"
      ],
      "metadata": {
        "id": "4CSuorkrUHma"
      }
    },
    {
      "cell_type": "markdown",
      "source": [
        "**Accuracy**"
      ],
      "metadata": {
        "id": "II54QJNkEWNV"
      }
    },
    {
      "cell_type": "code",
      "source": [
        "from sklearn.tree import DecisionTreeClassifier\n",
        "from sklearn.neighbors import KNeighborsClassifier\n",
        "from sklearn.ensemble import RandomForestClassifier\n",
        "from sklearn.svm import SVC\n",
        "from sklearn.ensemble import GradientBoostingClassifier\n",
        "from sklearn.metrics import accuracy_score\n"
      ],
      "metadata": {
        "id": "yV5bD7iykKEk"
      },
      "execution_count": 41,
      "outputs": []
    },
    {
      "cell_type": "code",
      "source": [
        "model_RFC=RandomForestClassifier()\n",
        "model_SVC=SVC()\n",
        "model_GBC=GradientBoostingClassifier(max_features=15)"
      ],
      "metadata": {
        "id": "EQHbvJz_kfE_"
      },
      "execution_count": 42,
      "outputs": []
    },
    {
      "cell_type": "code",
      "source": [
        "import time\n",
        "def exec_time(start, end):\n",
        "   diff_time = end - start\n",
        "   return diff_time"
      ],
      "metadata": {
        "id": "LnvFJWVC655J"
      },
      "execution_count": 43,
      "outputs": []
    },
    {
      "cell_type": "code",
      "source": [
        "start=time.time()\n",
        "model_RFC.fit(train_images_std,train_labels_ar)\n",
        "end=time.time()\n",
        "RFC_time = exec_time(start,end)"
      ],
      "metadata": {
        "id": "HTLk1ZjSkzyr",
        "colab": {
          "base_uri": "https://localhost:8080/"
        },
        "outputId": "0fa02bd9-9ec5-40c0-db84-e2e1c86eaa3c"
      },
      "execution_count": 44,
      "outputs": [
        {
          "output_type": "stream",
          "name": "stderr",
          "text": [
            "/usr/local/lib/python3.7/dist-packages/ipykernel_launcher.py:2: DataConversionWarning: A column-vector y was passed when a 1d array was expected. Please change the shape of y to (n_samples,), for example using ravel().\n",
            "  \n"
          ]
        }
      ]
    },
    {
      "cell_type": "code",
      "source": [
        "start=time.time()\n",
        "model_SVC.fit(train_images_std,train_labels_ar)\n",
        "end=time.time()\n",
        "SVC_time = exec_time(start,end)"
      ],
      "metadata": {
        "id": "T68ZmuX-lCh7",
        "colab": {
          "base_uri": "https://localhost:8080/"
        },
        "outputId": "5942b722-8bc2-4258-fdc1-1d896e960ca0"
      },
      "execution_count": 45,
      "outputs": [
        {
          "output_type": "stream",
          "name": "stderr",
          "text": [
            "/usr/local/lib/python3.7/dist-packages/sklearn/utils/validation.py:993: DataConversionWarning: A column-vector y was passed when a 1d array was expected. Please change the shape of y to (n_samples, ), for example using ravel().\n",
            "  y = column_or_1d(y, warn=True)\n"
          ]
        }
      ]
    },
    {
      "cell_type": "code",
      "source": [
        "start=time.time()\n",
        "model_GBC.fit(train_images_std,train_labels_ar)\n",
        "end=time.time()\n",
        "GBC_time = exec_time(start,end)"
      ],
      "metadata": {
        "colab": {
          "base_uri": "https://localhost:8080/"
        },
        "id": "PE1358vgVDOj",
        "outputId": "3a8abee6-71e3-4a12-d947-4e4828038461"
      },
      "execution_count": 46,
      "outputs": [
        {
          "output_type": "stream",
          "name": "stderr",
          "text": [
            "/usr/local/lib/python3.7/dist-packages/sklearn/ensemble/_gb.py:494: DataConversionWarning: A column-vector y was passed when a 1d array was expected. Please change the shape of y to (n_samples, ), for example using ravel().\n",
            "  y = column_or_1d(y, warn=True)\n"
          ]
        }
      ]
    },
    {
      "cell_type": "code",
      "source": [
        "RFC_accuracy=accuracy_score(test_labels_ar,model_RFC.predict(test_images_std))"
      ],
      "metadata": {
        "id": "GQsjeU1bmNRB"
      },
      "execution_count": 47,
      "outputs": []
    },
    {
      "cell_type": "code",
      "source": [
        "SVC_accuracy=accuracy_score(test_labels_ar,model_SVC.predict(test_images_std))"
      ],
      "metadata": {
        "id": "IxIdZEVVmP5X"
      },
      "execution_count": 48,
      "outputs": []
    },
    {
      "cell_type": "code",
      "source": [
        "GBC_accuracy=accuracy_score(test_labels_ar,model_GBC.predict(test_images_std))"
      ],
      "metadata": {
        "id": "BKadFUEpVLN1"
      },
      "execution_count": 49,
      "outputs": []
    },
    {
      "cell_type": "code",
      "source": [
        "ANN_accuracy=test_acc"
      ],
      "metadata": {
        "id": "SEVM6rzGqyEy"
      },
      "execution_count": 50,
      "outputs": []
    },
    {
      "cell_type": "code",
      "source": [
        "start=time.time()\n",
        "model.fit(train_images, train_labels_ar, epochs=10,validation_data=(test_images,test_labels_ar))\n",
        "end=time.time()\n",
        "ANN_time = exec_time(start,end)"
      ],
      "metadata": {
        "id": "ttbpiF3GCZFR",
        "colab": {
          "base_uri": "https://localhost:8080/"
        },
        "outputId": "c81ff073-1017-42f4-c6ba-3d0b4a75f2ee"
      },
      "execution_count": 51,
      "outputs": [
        {
          "output_type": "stream",
          "name": "stdout",
          "text": [
            "Epoch 1/10\n",
            "   1/1257 [..............................] - ETA: 44s - loss: 0.1155 - accuracy: 1.0000"
          ]
        },
        {
          "output_type": "stream",
          "name": "stderr",
          "text": [
            "/usr/local/lib/python3.7/dist-packages/tensorflow/python/data/ops/structured_function.py:265: UserWarning: Even though the `tf.config.experimental_run_functions_eagerly` option is set, this option does not apply to tf.data functions. To force eager execution of tf.data functions, please use `tf.data.experimental.enable_debug_mode()`.\n",
            "  \"Even though the `tf.config.experimental_run_functions_eagerly` \"\n"
          ]
        },
        {
          "output_type": "stream",
          "name": "stdout",
          "text": [
            "1257/1257 [==============================] - 22s 18ms/step - loss: 0.2148 - accuracy: 0.9195 - val_loss: 0.3567 - val_accuracy: 0.8814\n",
            "Epoch 2/10\n",
            "1257/1257 [==============================] - 21s 17ms/step - loss: 0.2037 - accuracy: 0.9233 - val_loss: 0.3594 - val_accuracy: 0.8817\n",
            "Epoch 3/10\n",
            "1257/1257 [==============================] - 22s 17ms/step - loss: 0.1940 - accuracy: 0.9267 - val_loss: 0.4197 - val_accuracy: 0.8726\n",
            "Epoch 4/10\n",
            "1257/1257 [==============================] - 21s 17ms/step - loss: 0.1870 - accuracy: 0.9307 - val_loss: 0.3708 - val_accuracy: 0.8803\n",
            "Epoch 5/10\n",
            "1257/1257 [==============================] - 22s 17ms/step - loss: 0.1782 - accuracy: 0.9333 - val_loss: 0.3899 - val_accuracy: 0.8825\n",
            "Epoch 6/10\n",
            "1257/1257 [==============================] - 21s 17ms/step - loss: 0.1729 - accuracy: 0.9362 - val_loss: 0.3976 - val_accuracy: 0.8784\n",
            "Epoch 7/10\n",
            "1257/1257 [==============================] - 26s 21ms/step - loss: 0.1671 - accuracy: 0.9381 - val_loss: 0.4071 - val_accuracy: 0.8834\n",
            "Epoch 8/10\n",
            "1257/1257 [==============================] - 21s 17ms/step - loss: 0.1629 - accuracy: 0.9380 - val_loss: 0.3878 - val_accuracy: 0.8858\n",
            "Epoch 9/10\n",
            "1257/1257 [==============================] - 21s 16ms/step - loss: 0.1550 - accuracy: 0.9411 - val_loss: 0.4225 - val_accuracy: 0.8821\n",
            "Epoch 10/10\n",
            "1257/1257 [==============================] - 22s 17ms/step - loss: 0.1504 - accuracy: 0.9425 - val_loss: 0.4077 - val_accuracy: 0.8847\n"
          ]
        }
      ]
    },
    {
      "cell_type": "code",
      "source": [
        "test_loss_cnn, test_acc_cnn = model_cnn.evaluate(test_images,  test_labels_onehot, verbose=2)"
      ],
      "metadata": {
        "id": "G_vUNKTEvk6z",
        "colab": {
          "base_uri": "https://localhost:8080/"
        },
        "outputId": "b1986508-c2c6-4b16-a6bf-adef704db614"
      },
      "execution_count": 52,
      "outputs": [
        {
          "output_type": "stream",
          "name": "stdout",
          "text": [
            "619/619 - 7s - loss: 0.2473 - accuracy: 0.9175 - 7s/epoch - 11ms/step\n"
          ]
        }
      ]
    },
    {
      "cell_type": "code",
      "source": [
        "CNN_accuracy=test_acc_cnn"
      ],
      "metadata": {
        "id": "_Z25NMSGwWuA"
      },
      "execution_count": 53,
      "outputs": []
    },
    {
      "cell_type": "code",
      "source": [
        "start=time.time()\n",
        "model_cnn.fit(train_images,train_labels_onehot, epochs=10, batch_size = BS,validation_data = (test_images, test_labels_onehot))\n",
        "end=time.time()\n",
        "CNN_time = exec_time(start,end)"
      ],
      "metadata": {
        "id": "kHcuZkwYCoKN",
        "colab": {
          "base_uri": "https://localhost:8080/"
        },
        "outputId": "733cb654-0175-4f2e-f2a1-215b5d9a55c1"
      },
      "execution_count": 54,
      "outputs": [
        {
          "output_type": "stream",
          "name": "stdout",
          "text": [
            "Epoch 1/10\n",
            "1257/1257 [==============================] - 39s 31ms/step - loss: 0.0997 - accuracy: 0.9652 - val_loss: 0.2484 - val_accuracy: 0.9163\n",
            "Epoch 2/10\n",
            "1257/1257 [==============================] - 45s 35ms/step - loss: 0.0890 - accuracy: 0.9680 - val_loss: 0.2459 - val_accuracy: 0.9199\n",
            "Epoch 3/10\n",
            "1257/1257 [==============================] - 37s 29ms/step - loss: 0.0799 - accuracy: 0.9727 - val_loss: 0.2582 - val_accuracy: 0.9196\n",
            "Epoch 4/10\n",
            "1257/1257 [==============================] - 35s 28ms/step - loss: 0.0704 - accuracy: 0.9766 - val_loss: 0.2606 - val_accuracy: 0.9187\n",
            "Epoch 5/10\n",
            "1257/1257 [==============================] - 37s 29ms/step - loss: 0.0636 - accuracy: 0.9790 - val_loss: 0.2693 - val_accuracy: 0.9172\n",
            "Epoch 6/10\n",
            "1257/1257 [==============================] - 37s 29ms/step - loss: 0.0561 - accuracy: 0.9815 - val_loss: 0.2828 - val_accuracy: 0.9168\n",
            "Epoch 7/10\n",
            "1257/1257 [==============================] - 39s 31ms/step - loss: 0.0500 - accuracy: 0.9846 - val_loss: 0.2836 - val_accuracy: 0.9182\n",
            "Epoch 8/10\n",
            "1257/1257 [==============================] - 34s 27ms/step - loss: 0.0454 - accuracy: 0.9858 - val_loss: 0.2866 - val_accuracy: 0.9184\n",
            "Epoch 9/10\n",
            "1257/1257 [==============================] - 36s 29ms/step - loss: 0.0391 - accuracy: 0.9890 - val_loss: 0.3034 - val_accuracy: 0.9188\n",
            "Epoch 10/10\n",
            "1257/1257 [==============================] - 37s 30ms/step - loss: 0.0343 - accuracy: 0.9901 - val_loss: 0.3092 - val_accuracy: 0.9176\n"
          ]
        }
      ]
    },
    {
      "cell_type": "code",
      "source": [
        "names=['RFC',\n",
        "       'SVC',\n",
        "       'GBC',\n",
        "       'ANN',\n",
        "       'CNN']\n",
        "\n",
        "test=[]\n",
        "test.append(RFC_accuracy)\n",
        "test.append(SVC_accuracy)\n",
        "test.append(GBC_accuracy)\n",
        "test.append(ANN_accuracy)\n",
        "test.append(CNN_accuracy)\n",
        "\n",
        "fig = plt.figure()\n",
        "ind = np.arange(len(names))  # the x locations for the groups\n",
        "width = 0.35  # the width of the bars\n",
        "fig.suptitle('Model Comparison')\n",
        "ax = fig.add_subplot(111)\n",
        "plt.bar(ind + width/2, test, width=width, label='Test Error')\n",
        "fig.set_size_inches(15,8)\n",
        "plt.legend()\n",
        "ax.set_xticks(ind)\n",
        "ax.set_xticklabels(names)\n",
        "plt.ylim(top = max(test))\n",
        "for i in range(len(test)):\n",
        "  p = \"%s: %.3f\" % (names[i], test[i])\n",
        "  print(p)\n",
        "plt.show()"
      ],
      "metadata": {
        "id": "B0e7mcOuweZ7",
        "colab": {
          "base_uri": "https://localhost:8080/",
          "height": 630
        },
        "outputId": "0bf483ed-54ce-4909-a201-adebab9bf7f1"
      },
      "execution_count": 55,
      "outputs": [
        {
          "output_type": "stream",
          "name": "stdout",
          "text": [
            "RFC: 0.878\n",
            "SVC: 0.884\n",
            "GBC: 0.864\n",
            "ANN: 0.885\n",
            "CNN: 0.918\n"
          ]
        },
        {
          "output_type": "display_data",
          "data": {
            "text/plain": [
              "<Figure size 1080x576 with 1 Axes>"
            ],
            "image/png": "[encoded data removed]"
          },
          "metadata": {
            "needs_background": "light"
          }
        }
      ]
    },
    {
      "cell_type": "markdown",
      "source": [
        "**Time complexity**"
      ],
      "metadata": {
        "id": "dmmjFuDBxY2H"
      }
    },
    {
      "cell_type": "code",
      "source": [
        "names=['RFC',\n",
        "       'SVC',\n",
        "       'GBC',\n",
        "       'ANN',\n",
        "       'CNN']\n",
        "\n",
        "time=[]\n",
        "time.append(RFC_time)\n",
        "time.append(SVC_time)\n",
        "time.append(GBC_time)\n",
        "time.append(ANN_time)\n",
        "time.append(CNN_time)\n",
        "\n",
        "fig = plt.figure()\n",
        "ind = np.arange(len(names))  # the x locations for the groups\n",
        "width = 0.35  # the width of the bars\n",
        "fig.suptitle('Model Comparison')\n",
        "ax = fig.add_subplot(111)\n",
        "plt.bar(ind + width/2, time, width=width, label='Time taken')\n",
        "fig.set_size_inches(15,5)\n",
        "plt.legend()\n",
        "ax.set_xticks(ind)\n",
        "ax.set_xticklabels(names)\n",
        "plt.ylim(top = max(time))\n",
        "for i in range(len(time)):\n",
        "  p = \"%s: %.2f\" % (names[i], (time[i]))\n",
        "  print(p+\"s\")\n",
        "plt.show()"
      ],
      "metadata": {
        "id": "pYnaxW_d4rWx",
        "colab": {
          "base_uri": "https://localhost:8080/",
          "height": 446
        },
        "outputId": "b3a0375e-0408-45c9-b121-b312e757a486"
      },
      "execution_count": 56,
      "outputs": [
        {
          "output_type": "stream",
          "name": "stdout",
          "text": [
            "RFC: 51.76s\n",
            "SVC: 132.12s\n",
            "GBC: 92.35s\n",
            "ANN: 219.91s\n",
            "CNN: 374.38s\n"
          ]
        },
        {
          "output_type": "display_data",
          "data": {
            "text/plain": [
              "<Figure size 1080x360 with 1 Axes>"
            ],
            "image/png": "[encoded data removed]"
          },
          "metadata": {
            "needs_background": "light"
          }
        }
      ]
    },
    {
      "cell_type": "markdown",
      "source": [
        "# Model with data preprocessing"
      ],
      "metadata": {
        "id": "NckkiW0jEstF"
      }
    },
    {
      "cell_type": "markdown",
      "source": [
        "**Boundary analysis**"
      ],
      "metadata": {
        "id": "ME21uHTuFJzq"
      }
    },
    {
      "cell_type": "code",
      "source": [
        "# data reshaping for further usage\n",
        "train_images_2d_std = np.reshape(train_images_std, (train_images_std.shape[0],28,28))\n",
        "test_images_2d_std = np.reshape(test_images_std, (test_images_std.shape[0],28,28))\n",
        "\n",
        "train_images_2d_std.shape"
      ],
      "metadata": {
        "id": "0STmHFYZFS7x",
        "colab": {
          "base_uri": "https://localhost:8080/"
        },
        "outputId": "e172f1a8-f058-4ba4-9606-0b00c71fe9d0"
      },
      "execution_count": 57,
      "outputs": [
        {
          "output_type": "execute_result",
          "data": {
            "text/plain": [
              "(40200, 28, 28)"
            ]
          },
          "metadata": {},
          "execution_count": 57
        }
      ]
    },
    {
      "cell_type": "code",
      "source": [
        "# Boundary deciding function\n",
        "def diff_array(i, data):\n",
        "  '''\n",
        "  Input: index, tandardized dataset\n",
        "  Output: 26*26 2d array based on difference\n",
        "  '''\n",
        "  # 1 2 3\n",
        "  # 4 0 5\n",
        "  # 6 7 8\n",
        "  # difference of 0 = max(average(1,2,4), average(2,3,5), average(4,6,7), average(5,7,8))\n",
        "\n",
        "  def diff(diff_r, diff_c):\n",
        "    '''\n",
        "    Input: index\n",
        "    Output: the value of the index - the value of neighboring index\n",
        "    '''\n",
        "    return data[i, row, col] - data[i, row+diff_r, col+diff_c] \n",
        "\n",
        "  diff_ar = np.zeros((28,28))\n",
        "  for row in range(1,27,1): # Note that I didn't consider the out most region (row 0, col 0, row 27, col 27)\n",
        "    for col in range(1,27,1):\n",
        "      l_u = (diff(-1,-1)+diff(-1,0)+diff(0,-1))/3 # the average difference for the top left corner\n",
        "      l_d = (diff(0,-1)+diff(1,-1)+diff(1,0))/3 # the average difference for the down left corner\n",
        "      r_u = (diff(-1,0)+diff(-1,1)+diff(0,1))/3 # the average difference for the top right corner\n",
        "      r_d = (diff(0,1)+diff(1,0)+diff(1,1))/3 # the average difference for the down right corner\n",
        "      max_diff = max(l_u, l_d, r_u, r_d) # record the highest average difference\n",
        "      # diff_ar[row, col] = max_diff # for testing\n",
        "      \n",
        "      if max_diff > 0.5:  # the key threshold value (if the difference is above this value, consider it as a boundary)\n",
        "        diff_ar[row,col] = 1 # Once it passes the threshold, we set this to 1\n",
        "      \n",
        "  return diff_ar"
      ],
      "metadata": {
        "id": "jVa21it3Ffxi"
      },
      "execution_count": 58,
      "outputs": []
    },
    {
      "cell_type": "code",
      "source": [
        "train_images_diff = np.asarray([diff_array(i, train_images_2d_std) for i in range(0, len(train_images_2d_std))])\n",
        "test_images_diff = np.asarray([diff_array(i, test_images_2d_std) for i in range(0, len(test_images_2d_std))])"
      ],
      "metadata": {
        "id": "NBObsdqcFsnP"
      },
      "execution_count": 59,
      "outputs": []
    },
    {
      "cell_type": "markdown",
      "source": [
        "ANN"
      ],
      "metadata": {
        "id": "uvL28VVuGBRJ"
      }
    },
    {
      "cell_type": "code",
      "source": [
        "model_diff = tf.keras.Sequential([\n",
        "    tf.keras.layers.Flatten(input_shape=(28,28)),\n",
        "    tf.keras.layers.Dense(128, activation='relu'),\n",
        "    tf.keras.layers.Dense(10)\n",
        "])\n",
        "\n",
        "model_diff.compile(optimizer='adam',\n",
        "              loss=tf.keras.losses.SparseCategoricalCrossentropy(from_logits=True),\n",
        "              metrics=['accuracy'])"
      ],
      "metadata": {
        "id": "thARH1qWF8iK"
      },
      "execution_count": 60,
      "outputs": []
    },
    {
      "cell_type": "code",
      "source": [
        "model_diff.fit(train_images_diff,train_labels_ar, epochs=10, validation_data = (test_images_diff, test_labels_ar))"
      ],
      "metadata": {
        "id": "n3etpxUiGCSr",
        "colab": {
          "base_uri": "https://localhost:8080/"
        },
        "outputId": "75035624-4e06-478f-998d-80c3f7562143"
      },
      "execution_count": 61,
      "outputs": [
        {
          "output_type": "stream",
          "name": "stdout",
          "text": [
            "Epoch 1/10\n",
            "1257/1257 [==============================] - 22s 17ms/step - loss: 0.5555 - accuracy: 0.8004 - val_loss: 0.4690 - val_accuracy: 0.8296\n",
            "Epoch 2/10\n",
            "1257/1257 [==============================] - 24s 19ms/step - loss: 0.3954 - accuracy: 0.8561 - val_loss: 0.4209 - val_accuracy: 0.8476\n",
            "Epoch 3/10\n",
            "1257/1257 [==============================] - 22s 17ms/step - loss: 0.3281 - accuracy: 0.8804 - val_loss: 0.4071 - val_accuracy: 0.8540\n",
            "Epoch 4/10\n",
            "1257/1257 [==============================] - 22s 18ms/step - loss: 0.2739 - accuracy: 0.9018 - val_loss: 0.4178 - val_accuracy: 0.8485\n",
            "Epoch 5/10\n",
            "1257/1257 [==============================] - 22s 17ms/step - loss: 0.2299 - accuracy: 0.9171 - val_loss: 0.4285 - val_accuracy: 0.8527\n",
            "Epoch 6/10\n",
            "1257/1257 [==============================] - 22s 17ms/step - loss: 0.1941 - accuracy: 0.9317 - val_loss: 0.4622 - val_accuracy: 0.8490\n",
            "Epoch 7/10\n",
            "1257/1257 [==============================] - 23s 18ms/step - loss: 0.1626 - accuracy: 0.9441 - val_loss: 0.4651 - val_accuracy: 0.8483\n",
            "Epoch 8/10\n",
            "1257/1257 [==============================] - 21s 17ms/step - loss: 0.1327 - accuracy: 0.9553 - val_loss: 0.5116 - val_accuracy: 0.8422\n",
            "Epoch 9/10\n",
            "1257/1257 [==============================] - 22s 18ms/step - loss: 0.1108 - accuracy: 0.9643 - val_loss: 0.5238 - val_accuracy: 0.8535\n",
            "Epoch 10/10\n",
            "1257/1257 [==============================] - 21s 17ms/step - loss: 0.0907 - accuracy: 0.9710 - val_loss: 0.5588 - val_accuracy: 0.8470\n"
          ]
        },
        {
          "output_type": "execute_result",
          "data": {
            "text/plain": [
              "<keras.callbacks.History at 0x7fdb4a377f90>"
            ]
          },
          "metadata": {},
          "execution_count": 61
        }
      ]
    },
    {
      "cell_type": "markdown",
      "source": [
        "CNN"
      ],
      "metadata": {
        "id": "78QmCajsGE8d"
      }
    },
    {
      "cell_type": "code",
      "source": [
        "model_cnn_diff = tf.keras.models.Sequential()\n",
        "\n",
        "## first CONV => RELU => CONV => RELU => POOL layer set ##\n",
        "model_cnn_diff.add(tf.keras.layers.Conv2D(32, (3, 3), padding = \"same\", activation = 'relu', input_shape = (28,28,1)))\n",
        "model_cnn_diff.add(tf.keras.layers.Conv2D(32, (3, 3), padding=\"same\", activation = 'relu'))\n",
        "model_cnn_diff.add(tf.keras.layers.MaxPooling2D(pool_size=(2, 2)))\n",
        "\n",
        "\n",
        "## second CONV => RELU => CONV => RELU => POOL layer set ##\n",
        "model_cnn_diff.add(tf.keras.layers.Conv2D(64, (3, 3), padding = \"same\", activation = 'relu'))\n",
        "model_cnn_diff.add(tf.keras.layers.Conv2D(64, (3, 3), padding=\"same\", activation = 'relu'))\n",
        "model_cnn_diff.add(tf.keras.layers.MaxPooling2D(pool_size=(2, 2)))\n",
        "\n",
        "\n",
        "## first (and only) set of FC => RELU layers ##\n",
        "model_cnn_diff.add(tf.keras.layers.Flatten())\n",
        "model_cnn_diff.add(tf.keras.layers.Dense(512, activation = 'relu'))\n",
        "model_cnn_diff.add(tf.keras.layers.Dense(10, activation = 'softmax'))\n",
        "\n",
        "# copy from https://pyimagesearch.com/2019/02/11/fashion-mnist-with-keras-and-deep-learning/\n",
        "\n",
        "NUM_EPOCHS = 10\n",
        "INIT_LR = 1e-2\n",
        "BS = 32\n",
        "\n",
        "opt = tf.keras.optimizers.SGD(lr=INIT_LR, momentum=0.9, decay=INIT_LR / NUM_EPOCHS)\n",
        "model_cnn_diff.compile(loss=\"categorical_crossentropy\", optimizer=opt, metrics=[\"accuracy\"])\n",
        "\n",
        "tf.keras.utils.plot_model(model_cnn_diff, show_shapes = True)"
      ],
      "metadata": {
        "id": "XVH3HYL_GFln",
        "colab": {
          "base_uri": "https://localhost:8080/",
          "height": 1000
        },
        "outputId": "944fd199-ad7d-4066-fd4f-e663b57ea1ff"
      },
      "execution_count": 62,
      "outputs": [
        {
          "output_type": "stream",
          "name": "stderr",
          "text": [
            "/usr/local/lib/python3.7/dist-packages/keras/optimizers/optimizer_v2/gradient_descent.py:108: UserWarning: The `lr` argument is deprecated, use `learning_rate` instead.\n",
            "  super(SGD, self).__init__(name, **kwargs)\n"
          ]
        },
        {
          "output_type": "execute_result",
          "data": {
            "image/png": "[encoded data removed]",
            "text/plain": [
              "<IPython.core.display.Image object>"
            ]
          },
          "metadata": {},
          "execution_count": 62
        }
      ]
    },
    {
      "cell_type": "code",
      "source": [
        "history_cnn_diff=model_cnn_diff.fit(train_images,train_labels_onehot, epochs=10, batch_size = BS,validation_data = (test_images, test_labels_onehot))"
      ],
      "metadata": {
        "id": "AmJISqBfGIEx",
        "colab": {
          "base_uri": "https://localhost:8080/"
        },
        "outputId": "0eb650df-7dcc-461b-daa1-6177bfb62355"
      },
      "execution_count": 63,
      "outputs": [
        {
          "output_type": "stream",
          "name": "stdout",
          "text": [
            "Epoch 1/10\n",
            "1257/1257 [==============================] - 38s 30ms/step - loss: 0.4968 - accuracy: 0.8228 - val_loss: 0.3209 - val_accuracy: 0.8852\n",
            "Epoch 2/10\n",
            "1257/1257 [==============================] - 37s 30ms/step - loss: 0.2867 - accuracy: 0.8946 - val_loss: 0.2865 - val_accuracy: 0.8975\n",
            "Epoch 3/10\n",
            "1257/1257 [==============================] - 35s 27ms/step - loss: 0.2417 - accuracy: 0.9117 - val_loss: 0.2607 - val_accuracy: 0.9051\n",
            "Epoch 4/10\n",
            "1257/1257 [==============================] - 34s 27ms/step - loss: 0.2109 - accuracy: 0.9230 - val_loss: 0.2469 - val_accuracy: 0.9105\n",
            "Epoch 5/10\n",
            "1257/1257 [==============================] - 33s 26ms/step - loss: 0.1915 - accuracy: 0.9304 - val_loss: 0.2470 - val_accuracy: 0.9101\n",
            "Epoch 6/10\n",
            "1257/1257 [==============================] - 37s 30ms/step - loss: 0.1731 - accuracy: 0.9374 - val_loss: 0.2324 - val_accuracy: 0.9156\n",
            "Epoch 7/10\n",
            "1257/1257 [==============================] - 37s 29ms/step - loss: 0.1584 - accuracy: 0.9421 - val_loss: 0.2306 - val_accuracy: 0.9161\n",
            "Epoch 8/10\n",
            "1257/1257 [==============================] - 33s 26ms/step - loss: 0.1456 - accuracy: 0.9481 - val_loss: 0.2429 - val_accuracy: 0.9141\n",
            "Epoch 9/10\n",
            "1257/1257 [==============================] - 35s 28ms/step - loss: 0.1336 - accuracy: 0.9517 - val_loss: 0.2374 - val_accuracy: 0.9165\n",
            "Epoch 10/10\n",
            "1257/1257 [==============================] - 34s 27ms/step - loss: 0.1231 - accuracy: 0.9557 - val_loss: 0.2426 - val_accuracy: 0.9154\n"
          ]
        }
      ]
    },
    {
      "cell_type": "markdown",
      "source": [
        "**Principal Component Analysis**"
      ],
      "metadata": {
        "id": "3VHospY8GLlM"
      }
    },
    {
      "cell_type": "code",
      "source": [
        "from sklearn.decomposition import PCA\n",
        "\n",
        "pca = PCA(n_components=10) # do principle component analysis. Choose the best 10 variables that can explain the most variations.\n",
        "train_images_pca = pca.fit(train_images_std).transform(train_images_std)"
      ],
      "metadata": {
        "id": "RLhrjuI4GQVH"
      },
      "execution_count": 64,
      "outputs": []
    },
    {
      "cell_type": "code",
      "source": [
        "pca.explained_variance_ratio_"
      ],
      "metadata": {
        "id": "ojSZUTYWGSYh",
        "colab": {
          "base_uri": "https://localhost:8080/"
        },
        "outputId": "f29a0b9a-cdd9-4f2a-cbca-2a3f62453ad1"
      },
      "execution_count": 65,
      "outputs": [
        {
          "output_type": "execute_result",
          "data": {
            "text/plain": [
              "array([0.29001182, 0.17735104, 0.06021262, 0.04979453, 0.03874341,\n",
              "       0.0346694 , 0.02334097, 0.01903877, 0.01341494, 0.01300965])"
            ]
          },
          "metadata": {},
          "execution_count": 65
        }
      ]
    },
    {
      "cell_type": "code",
      "source": [
        "train_images_pca = np.matmul(train_images_std, pca.components_.T)\n",
        "test_images_pca = np.matmul(test_images_std, pca.components_.T)"
      ],
      "metadata": {
        "id": "6q6ppGgYGUdG"
      },
      "execution_count": 66,
      "outputs": []
    },
    {
      "cell_type": "code",
      "source": [
        "model_PCA = tf.keras.Sequential([\n",
        "    tf.keras.layers.Dense(128, activation='relu', input_shape = (10,)),\n",
        "    tf.keras.layers.Dense(10)\n",
        "])\n",
        "\n",
        "model_PCA.compile(optimizer='adam',\n",
        "              loss=tf.keras.losses.SparseCategoricalCrossentropy(from_logits=True),\n",
        "              metrics=['accuracy'])"
      ],
      "metadata": {
        "id": "gtCMXAygGV0y"
      },
      "execution_count": 67,
      "outputs": []
    },
    {
      "cell_type": "code",
      "source": [
        "model_PCA.fit(train_images_pca,train_labels_ar, epochs=10, validation_data = (test_images_pca, test_labels_ar))"
      ],
      "metadata": {
        "id": "SO3XJdhCGXki",
        "colab": {
          "base_uri": "https://localhost:8080/"
        },
        "outputId": "da0a9c18-75c2-483e-bc0a-17c13d4467b0"
      },
      "execution_count": 68,
      "outputs": [
        {
          "output_type": "stream",
          "name": "stdout",
          "text": [
            "Epoch 1/10\n",
            "  11/1257 [..............................] - ETA: 15s - loss: 4.6156 - accuracy: 0.0341"
          ]
        },
        {
          "output_type": "stream",
          "name": "stderr",
          "text": [
            "/usr/local/lib/python3.7/dist-packages/tensorflow/python/data/ops/structured_function.py:265: UserWarning: Even though the `tf.config.experimental_run_functions_eagerly` option is set, this option does not apply to tf.data functions. To force eager execution of tf.data functions, please use `tf.data.experimental.enable_debug_mode()`.\n",
            "  \"Even though the `tf.config.experimental_run_functions_eagerly` \"\n"
          ]
        },
        {
          "output_type": "stream",
          "name": "stdout",
          "text": [
            "1257/1257 [==============================] - 21s 16ms/step - loss: 0.7101 - accuracy: 0.7422 - val_loss: 0.5616 - val_accuracy: 0.7874\n",
            "Epoch 2/10\n",
            "1257/1257 [==============================] - 22s 18ms/step - loss: 0.5495 - accuracy: 0.7935 - val_loss: 0.5473 - val_accuracy: 0.7856\n",
            "Epoch 3/10\n",
            "1257/1257 [==============================] - 21s 17ms/step - loss: 0.5235 - accuracy: 0.8017 - val_loss: 0.5171 - val_accuracy: 0.8020\n",
            "Epoch 4/10\n",
            "1257/1257 [==============================] - 22s 17ms/step - loss: 0.5103 - accuracy: 0.8074 - val_loss: 0.5114 - val_accuracy: 0.8069\n",
            "Epoch 5/10\n",
            "1257/1257 [==============================] - 21s 17ms/step - loss: 0.4983 - accuracy: 0.8132 - val_loss: 0.5116 - val_accuracy: 0.8047\n",
            "Epoch 6/10\n",
            "1257/1257 [==============================] - 21s 17ms/step - loss: 0.4909 - accuracy: 0.8172 - val_loss: 0.5188 - val_accuracy: 0.8071\n",
            "Epoch 7/10\n",
            "1257/1257 [==============================] - 22s 18ms/step - loss: 0.4840 - accuracy: 0.8174 - val_loss: 0.5074 - val_accuracy: 0.8085\n",
            "Epoch 8/10\n",
            "1257/1257 [==============================] - 21s 16ms/step - loss: 0.4780 - accuracy: 0.8199 - val_loss: 0.4921 - val_accuracy: 0.8166\n",
            "Epoch 9/10\n",
            "1257/1257 [==============================] - 22s 17ms/step - loss: 0.4735 - accuracy: 0.8229 - val_loss: 0.4904 - val_accuracy: 0.8165\n",
            "Epoch 10/10\n",
            "1257/1257 [==============================] - 21s 17ms/step - loss: 0.4705 - accuracy: 0.8248 - val_loss: 0.5008 - val_accuracy: 0.8078\n"
          ]
        },
        {
          "output_type": "execute_result",
          "data": {
            "text/plain": [
              "<keras.callbacks.History at 0x7fdb4a329490>"
            ]
          },
          "metadata": {},
          "execution_count": 68
        }
      ]
    },
    {
      "cell_type": "markdown",
      "source": [
        "# **Conclusion**\n",
        "\n",
        "In conclusion, we can assert that the assorted ML models, ANN and CNN models provide relatively similar results. However, The increased accuracy by ANN and CNN comes at a cost in time complexity.\n",
        "\n",
        "With data pre-processing, we can cut the time cost. Especially, when boundary analysis is used with CNN, it drastically reduces the time cost with minimal effect on the accuracy"
      ],
      "metadata": {
        "id": "G5LliB0cGZ1X"
      }
    }
  ]
}